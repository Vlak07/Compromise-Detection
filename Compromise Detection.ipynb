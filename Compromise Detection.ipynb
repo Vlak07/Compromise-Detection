{
 "cells": [
  {
   "cell_type": "markdown",
   "metadata": {
    "id": "kD2-UVLHYSfR"
   },
   "source": [
    "## Compromise Detection System"
   ]
  },
  {
   "cell_type": "markdown",
   "metadata": {
    "id": "Rz8-DrdNY1j0"
   },
   "source": [
    "## Problem Statement\n",
    "\n",
    "The exponential growth of network traffic has led to an increase in network anomalies, such as cyber attacks, network failures, and hardware malfunctions. Compromise detection is a critical task for maintaining the security and stability of computer networks as well as indetifying anamolies. The objective of our project is  helps to understand how K-Means can be used for Compromise detection."
   ]
  },
  {
   "cell_type": "markdown",
   "metadata": {},
   "source": [
    "**Importing Libraries**"
   ]
  },
  {
   "cell_type": "code",
   "execution_count": 1,
   "metadata": {},
   "outputs": [
    {
     "name": "stdout",
     "output_type": "stream",
     "text": [
      "time: 0 ns (started: 2024-04-07 22:27:45 +05:30)\n"
     ]
    }
   ],
   "source": [
    "import numpy as np\n",
    "import matplotlib.pyplot as plt\n",
    "import pandas as pd\n",
    "import os\n",
    "import itertools\n",
    "from scipy.spatial.distance import cdist, pdist\n",
    "from sklearn.metrics.pairwise import rbf_kernel\n",
    "from sklearn.model_selection import train_test_split\n",
    "from sklearn.metrics.cluster import contingency_matrix\n",
    "from sklearn.decomposition import PCA\n",
    "from sklearn.cluster import SpectralClustering, KMeans, kmeans_plusplus\n",
    "from sklearn.neighbors import NearestNeighbors\n",
    "from sklearn import preprocessing\n",
    "\n",
    "plt.rcParams['figure.figsize'] = [10, 6]\n",
    "\n",
    "%load_ext autotime"
   ]
  },
  {
   "cell_type": "markdown",
   "metadata": {},
   "source": [
    "**Utility Functions**"
   ]
  },
  {
   "cell_type": "code",
   "execution_count": 2,
   "metadata": {},
   "outputs": [
    {
     "name": "stdout",
     "output_type": "stream",
     "text": [
      "time: 0 ns (started: 2024-04-07 22:27:45 +05:30)\n"
     ]
    }
   ],
   "source": [
    "def nth_max(X, n):\n",
    "    return np.partition(X.flatten(), -n)[-n]"
   ]
  },
  {
   "cell_type": "code",
   "execution_count": 3,
   "metadata": {},
   "outputs": [
    {
     "name": "stdout",
     "output_type": "stream",
     "text": [
      "time: 0 ns (started: 2024-04-07 22:27:45 +05:30)\n"
     ]
    }
   ],
   "source": [
    "def np_value_counts(ndarray):\n",
    "    unique, counts = np.unique(ndarray, return_counts=True)\n",
    "    return np.asarray((unique, counts)).T"
   ]
  },
  {
   "cell_type": "markdown",
   "metadata": {
    "id": "NFZGooFjYEXF"
   },
   "source": [
    "## 1. Download the Datset\n",
    "\n",
    "For this Project, we will use the ”KDD Cup 1999” dataset, which is a widely used benchmark dataset for  Compromise detection. The data is available at the following [link](https://kdd.ics.uci.edu/databases/kddcup99/kddcup99.html). "
   ]
  },
  {
   "cell_type": "code",
   "execution_count": 4,
   "metadata": {},
   "outputs": [
    {
     "name": "stdout",
     "output_type": "stream",
     "text": [
      "time: 0 ns (started: 2024-04-07 22:27:45 +05:30)\n"
     ]
    }
   ],
   "source": [
    "with open('data/kddcup.names') as file:\n",
    "    lines = [line.rstrip() for line in file]\n",
    "columns = [line.split(\":\")[0] for line in lines[1:]]\n",
    "columns.append('label')"
   ]
  },
  {
   "cell_type": "code",
   "execution_count": 5,
   "metadata": {},
   "outputs": [
    {
     "data": {
      "text/plain": [
       "True"
      ]
     },
     "execution_count": 5,
     "metadata": {},
     "output_type": "execute_result"
    },
    {
     "name": "stdout",
     "output_type": "stream",
     "text": [
      "time: 15 ms (started: 2024-04-07 22:27:45 +05:30)\n"
     ]
    }
   ],
   "source": [
    "presaved_files = os.path.isfile('train.gz') and os.path.isfile('train10.gz') and os.path.isfile('test.gz')\n",
    "presaved_files"
   ]
  },
  {
   "cell_type": "code",
   "execution_count": 6,
   "metadata": {
    "id": "USIGK0oTZaF6"
   },
   "outputs": [
    {
     "name": "stdout",
     "output_type": "stream",
     "text": [
      "time: 1min 7s (started: 2024-04-07 22:27:45 +05:30)\n"
     ]
    }
   ],
   "source": [
    "if presaved_files:\n",
    "    train = pd.read_csv('train.gz', compression='gzip')\n",
    "    train10 = pd.read_csv('train10.gz', compression='gzip')\n",
    "    test = pd.read_csv('test.gz', compression='gzip')"
   ]
  },
  {
   "cell_type": "code",
   "execution_count": 7,
   "metadata": {
    "id": "USIGK0oTZaF6"
   },
   "outputs": [
    {
     "data": {
      "text/html": [
       "<div>\n",
       "<style scoped>\n",
       "    .dataframe tbody tr th:only-of-type {\n",
       "        vertical-align: middle;\n",
       "    }\n",
       "\n",
       "    .dataframe tbody tr th {\n",
       "        vertical-align: top;\n",
       "    }\n",
       "\n",
       "    .dataframe thead th {\n",
       "        text-align: right;\n",
       "    }\n",
       "</style>\n",
       "<table border=\"1\" class=\"dataframe\">\n",
       "  <thead>\n",
       "    <tr style=\"text-align: right;\">\n",
       "      <th></th>\n",
       "      <th>duration</th>\n",
       "      <th>src_bytes</th>\n",
       "      <th>dst_bytes</th>\n",
       "      <th>land</th>\n",
       "      <th>wrong_fragment</th>\n",
       "      <th>urgent</th>\n",
       "      <th>hot</th>\n",
       "      <th>num_failed_logins</th>\n",
       "      <th>logged_in</th>\n",
       "      <th>num_compromised</th>\n",
       "      <th>...</th>\n",
       "      <th>flag_REJ</th>\n",
       "      <th>flag_RSTO</th>\n",
       "      <th>flag_RSTOS0</th>\n",
       "      <th>flag_RSTR</th>\n",
       "      <th>flag_S0</th>\n",
       "      <th>flag_S1</th>\n",
       "      <th>flag_S2</th>\n",
       "      <th>flag_S3</th>\n",
       "      <th>flag_SF</th>\n",
       "      <th>flag_SH</th>\n",
       "    </tr>\n",
       "  </thead>\n",
       "  <tbody>\n",
       "    <tr>\n",
       "      <th>0</th>\n",
       "      <td>0</td>\n",
       "      <td>215</td>\n",
       "      <td>45076</td>\n",
       "      <td>0</td>\n",
       "      <td>0</td>\n",
       "      <td>0</td>\n",
       "      <td>0</td>\n",
       "      <td>0</td>\n",
       "      <td>1</td>\n",
       "      <td>0</td>\n",
       "      <td>...</td>\n",
       "      <td>False</td>\n",
       "      <td>False</td>\n",
       "      <td>False</td>\n",
       "      <td>False</td>\n",
       "      <td>False</td>\n",
       "      <td>False</td>\n",
       "      <td>False</td>\n",
       "      <td>False</td>\n",
       "      <td>True</td>\n",
       "      <td>False</td>\n",
       "    </tr>\n",
       "    <tr>\n",
       "      <th>1</th>\n",
       "      <td>0</td>\n",
       "      <td>162</td>\n",
       "      <td>4528</td>\n",
       "      <td>0</td>\n",
       "      <td>0</td>\n",
       "      <td>0</td>\n",
       "      <td>0</td>\n",
       "      <td>0</td>\n",
       "      <td>1</td>\n",
       "      <td>0</td>\n",
       "      <td>...</td>\n",
       "      <td>False</td>\n",
       "      <td>False</td>\n",
       "      <td>False</td>\n",
       "      <td>False</td>\n",
       "      <td>False</td>\n",
       "      <td>False</td>\n",
       "      <td>False</td>\n",
       "      <td>False</td>\n",
       "      <td>True</td>\n",
       "      <td>False</td>\n",
       "    </tr>\n",
       "    <tr>\n",
       "      <th>2</th>\n",
       "      <td>0</td>\n",
       "      <td>236</td>\n",
       "      <td>1228</td>\n",
       "      <td>0</td>\n",
       "      <td>0</td>\n",
       "      <td>0</td>\n",
       "      <td>0</td>\n",
       "      <td>0</td>\n",
       "      <td>1</td>\n",
       "      <td>0</td>\n",
       "      <td>...</td>\n",
       "      <td>False</td>\n",
       "      <td>False</td>\n",
       "      <td>False</td>\n",
       "      <td>False</td>\n",
       "      <td>False</td>\n",
       "      <td>False</td>\n",
       "      <td>False</td>\n",
       "      <td>False</td>\n",
       "      <td>True</td>\n",
       "      <td>False</td>\n",
       "    </tr>\n",
       "    <tr>\n",
       "      <th>3</th>\n",
       "      <td>0</td>\n",
       "      <td>233</td>\n",
       "      <td>2032</td>\n",
       "      <td>0</td>\n",
       "      <td>0</td>\n",
       "      <td>0</td>\n",
       "      <td>0</td>\n",
       "      <td>0</td>\n",
       "      <td>1</td>\n",
       "      <td>0</td>\n",
       "      <td>...</td>\n",
       "      <td>False</td>\n",
       "      <td>False</td>\n",
       "      <td>False</td>\n",
       "      <td>False</td>\n",
       "      <td>False</td>\n",
       "      <td>False</td>\n",
       "      <td>False</td>\n",
       "      <td>False</td>\n",
       "      <td>True</td>\n",
       "      <td>False</td>\n",
       "    </tr>\n",
       "    <tr>\n",
       "      <th>4</th>\n",
       "      <td>0</td>\n",
       "      <td>239</td>\n",
       "      <td>486</td>\n",
       "      <td>0</td>\n",
       "      <td>0</td>\n",
       "      <td>0</td>\n",
       "      <td>0</td>\n",
       "      <td>0</td>\n",
       "      <td>1</td>\n",
       "      <td>0</td>\n",
       "      <td>...</td>\n",
       "      <td>False</td>\n",
       "      <td>False</td>\n",
       "      <td>False</td>\n",
       "      <td>False</td>\n",
       "      <td>False</td>\n",
       "      <td>False</td>\n",
       "      <td>False</td>\n",
       "      <td>False</td>\n",
       "      <td>True</td>\n",
       "      <td>False</td>\n",
       "    </tr>\n",
       "    <tr>\n",
       "      <th>...</th>\n",
       "      <td>...</td>\n",
       "      <td>...</td>\n",
       "      <td>...</td>\n",
       "      <td>...</td>\n",
       "      <td>...</td>\n",
       "      <td>...</td>\n",
       "      <td>...</td>\n",
       "      <td>...</td>\n",
       "      <td>...</td>\n",
       "      <td>...</td>\n",
       "      <td>...</td>\n",
       "      <td>...</td>\n",
       "      <td>...</td>\n",
       "      <td>...</td>\n",
       "      <td>...</td>\n",
       "      <td>...</td>\n",
       "      <td>...</td>\n",
       "      <td>...</td>\n",
       "      <td>...</td>\n",
       "      <td>...</td>\n",
       "      <td>...</td>\n",
       "    </tr>\n",
       "    <tr>\n",
       "      <th>4898426</th>\n",
       "      <td>0</td>\n",
       "      <td>212</td>\n",
       "      <td>2288</td>\n",
       "      <td>0</td>\n",
       "      <td>0</td>\n",
       "      <td>0</td>\n",
       "      <td>0</td>\n",
       "      <td>0</td>\n",
       "      <td>1</td>\n",
       "      <td>0</td>\n",
       "      <td>...</td>\n",
       "      <td>False</td>\n",
       "      <td>False</td>\n",
       "      <td>False</td>\n",
       "      <td>False</td>\n",
       "      <td>False</td>\n",
       "      <td>False</td>\n",
       "      <td>False</td>\n",
       "      <td>False</td>\n",
       "      <td>True</td>\n",
       "      <td>False</td>\n",
       "    </tr>\n",
       "    <tr>\n",
       "      <th>4898427</th>\n",
       "      <td>0</td>\n",
       "      <td>219</td>\n",
       "      <td>236</td>\n",
       "      <td>0</td>\n",
       "      <td>0</td>\n",
       "      <td>0</td>\n",
       "      <td>0</td>\n",
       "      <td>0</td>\n",
       "      <td>1</td>\n",
       "      <td>0</td>\n",
       "      <td>...</td>\n",
       "      <td>False</td>\n",
       "      <td>False</td>\n",
       "      <td>False</td>\n",
       "      <td>False</td>\n",
       "      <td>False</td>\n",
       "      <td>False</td>\n",
       "      <td>False</td>\n",
       "      <td>False</td>\n",
       "      <td>True</td>\n",
       "      <td>False</td>\n",
       "    </tr>\n",
       "    <tr>\n",
       "      <th>4898428</th>\n",
       "      <td>0</td>\n",
       "      <td>218</td>\n",
       "      <td>3610</td>\n",
       "      <td>0</td>\n",
       "      <td>0</td>\n",
       "      <td>0</td>\n",
       "      <td>0</td>\n",
       "      <td>0</td>\n",
       "      <td>1</td>\n",
       "      <td>0</td>\n",
       "      <td>...</td>\n",
       "      <td>False</td>\n",
       "      <td>False</td>\n",
       "      <td>False</td>\n",
       "      <td>False</td>\n",
       "      <td>False</td>\n",
       "      <td>False</td>\n",
       "      <td>False</td>\n",
       "      <td>False</td>\n",
       "      <td>True</td>\n",
       "      <td>False</td>\n",
       "    </tr>\n",
       "    <tr>\n",
       "      <th>4898429</th>\n",
       "      <td>0</td>\n",
       "      <td>219</td>\n",
       "      <td>1234</td>\n",
       "      <td>0</td>\n",
       "      <td>0</td>\n",
       "      <td>0</td>\n",
       "      <td>0</td>\n",
       "      <td>0</td>\n",
       "      <td>1</td>\n",
       "      <td>0</td>\n",
       "      <td>...</td>\n",
       "      <td>False</td>\n",
       "      <td>False</td>\n",
       "      <td>False</td>\n",
       "      <td>False</td>\n",
       "      <td>False</td>\n",
       "      <td>False</td>\n",
       "      <td>False</td>\n",
       "      <td>False</td>\n",
       "      <td>True</td>\n",
       "      <td>False</td>\n",
       "    </tr>\n",
       "    <tr>\n",
       "      <th>4898430</th>\n",
       "      <td>0</td>\n",
       "      <td>219</td>\n",
       "      <td>1098</td>\n",
       "      <td>0</td>\n",
       "      <td>0</td>\n",
       "      <td>0</td>\n",
       "      <td>0</td>\n",
       "      <td>0</td>\n",
       "      <td>1</td>\n",
       "      <td>0</td>\n",
       "      <td>...</td>\n",
       "      <td>False</td>\n",
       "      <td>False</td>\n",
       "      <td>False</td>\n",
       "      <td>False</td>\n",
       "      <td>False</td>\n",
       "      <td>False</td>\n",
       "      <td>False</td>\n",
       "      <td>False</td>\n",
       "      <td>True</td>\n",
       "      <td>False</td>\n",
       "    </tr>\n",
       "  </tbody>\n",
       "</table>\n",
       "<p>4898431 rows × 124 columns</p>\n",
       "</div>"
      ],
      "text/plain": [
       "         duration  src_bytes  dst_bytes  land  wrong_fragment  urgent  hot  \\\n",
       "0               0        215      45076     0               0       0    0   \n",
       "1               0        162       4528     0               0       0    0   \n",
       "2               0        236       1228     0               0       0    0   \n",
       "3               0        233       2032     0               0       0    0   \n",
       "4               0        239        486     0               0       0    0   \n",
       "...           ...        ...        ...   ...             ...     ...  ...   \n",
       "4898426         0        212       2288     0               0       0    0   \n",
       "4898427         0        219        236     0               0       0    0   \n",
       "4898428         0        218       3610     0               0       0    0   \n",
       "4898429         0        219       1234     0               0       0    0   \n",
       "4898430         0        219       1098     0               0       0    0   \n",
       "\n",
       "         num_failed_logins  logged_in  num_compromised  ...  flag_REJ  \\\n",
       "0                        0          1                0  ...     False   \n",
       "1                        0          1                0  ...     False   \n",
       "2                        0          1                0  ...     False   \n",
       "3                        0          1                0  ...     False   \n",
       "4                        0          1                0  ...     False   \n",
       "...                    ...        ...              ...  ...       ...   \n",
       "4898426                  0          1                0  ...     False   \n",
       "4898427                  0          1                0  ...     False   \n",
       "4898428                  0          1                0  ...     False   \n",
       "4898429                  0          1                0  ...     False   \n",
       "4898430                  0          1                0  ...     False   \n",
       "\n",
       "         flag_RSTO  flag_RSTOS0  flag_RSTR  flag_S0  flag_S1  flag_S2  \\\n",
       "0            False        False      False    False    False    False   \n",
       "1            False        False      False    False    False    False   \n",
       "2            False        False      False    False    False    False   \n",
       "3            False        False      False    False    False    False   \n",
       "4            False        False      False    False    False    False   \n",
       "...            ...          ...        ...      ...      ...      ...   \n",
       "4898426      False        False      False    False    False    False   \n",
       "4898427      False        False      False    False    False    False   \n",
       "4898428      False        False      False    False    False    False   \n",
       "4898429      False        False      False    False    False    False   \n",
       "4898430      False        False      False    False    False    False   \n",
       "\n",
       "         flag_S3  flag_SF  flag_SH  \n",
       "0          False     True    False  \n",
       "1          False     True    False  \n",
       "2          False     True    False  \n",
       "3          False     True    False  \n",
       "4          False     True    False  \n",
       "...          ...      ...      ...  \n",
       "4898426    False     True    False  \n",
       "4898427    False     True    False  \n",
       "4898428    False     True    False  \n",
       "4898429    False     True    False  \n",
       "4898430    False     True    False  \n",
       "\n",
       "[4898431 rows x 124 columns]"
      ]
     },
     "execution_count": 7,
     "metadata": {},
     "output_type": "execute_result"
    },
    {
     "name": "stdout",
     "output_type": "stream",
     "text": [
      "time: 1.12 s (started: 2024-04-07 22:28:52 +05:30)\n"
     ]
    }
   ],
   "source": [
    "if not presaved_files:\n",
    "    train = pd.read_csv('data/kddcup.data.gz', compression='gzip', names=columns)\n",
    "train"
   ]
  },
  {
   "cell_type": "code",
   "execution_count": 8,
   "metadata": {},
   "outputs": [
    {
     "data": {
      "text/html": [
       "<div>\n",
       "<style scoped>\n",
       "    .dataframe tbody tr th:only-of-type {\n",
       "        vertical-align: middle;\n",
       "    }\n",
       "\n",
       "    .dataframe tbody tr th {\n",
       "        vertical-align: top;\n",
       "    }\n",
       "\n",
       "    .dataframe thead th {\n",
       "        text-align: right;\n",
       "    }\n",
       "</style>\n",
       "<table border=\"1\" class=\"dataframe\">\n",
       "  <thead>\n",
       "    <tr style=\"text-align: right;\">\n",
       "      <th></th>\n",
       "      <th>duration</th>\n",
       "      <th>src_bytes</th>\n",
       "      <th>dst_bytes</th>\n",
       "      <th>land</th>\n",
       "      <th>wrong_fragment</th>\n",
       "      <th>urgent</th>\n",
       "      <th>hot</th>\n",
       "      <th>num_failed_logins</th>\n",
       "      <th>logged_in</th>\n",
       "      <th>num_compromised</th>\n",
       "      <th>...</th>\n",
       "      <th>flag_REJ</th>\n",
       "      <th>flag_RSTO</th>\n",
       "      <th>flag_RSTOS0</th>\n",
       "      <th>flag_RSTR</th>\n",
       "      <th>flag_S0</th>\n",
       "      <th>flag_S1</th>\n",
       "      <th>flag_S2</th>\n",
       "      <th>flag_S3</th>\n",
       "      <th>flag_SF</th>\n",
       "      <th>flag_SH</th>\n",
       "    </tr>\n",
       "  </thead>\n",
       "  <tbody>\n",
       "    <tr>\n",
       "      <th>0</th>\n",
       "      <td>0</td>\n",
       "      <td>181</td>\n",
       "      <td>5450</td>\n",
       "      <td>0</td>\n",
       "      <td>0</td>\n",
       "      <td>0</td>\n",
       "      <td>0</td>\n",
       "      <td>0</td>\n",
       "      <td>1</td>\n",
       "      <td>0</td>\n",
       "      <td>...</td>\n",
       "      <td>False</td>\n",
       "      <td>False</td>\n",
       "      <td>False</td>\n",
       "      <td>False</td>\n",
       "      <td>False</td>\n",
       "      <td>False</td>\n",
       "      <td>False</td>\n",
       "      <td>False</td>\n",
       "      <td>True</td>\n",
       "      <td>False</td>\n",
       "    </tr>\n",
       "    <tr>\n",
       "      <th>1</th>\n",
       "      <td>0</td>\n",
       "      <td>239</td>\n",
       "      <td>486</td>\n",
       "      <td>0</td>\n",
       "      <td>0</td>\n",
       "      <td>0</td>\n",
       "      <td>0</td>\n",
       "      <td>0</td>\n",
       "      <td>1</td>\n",
       "      <td>0</td>\n",
       "      <td>...</td>\n",
       "      <td>False</td>\n",
       "      <td>False</td>\n",
       "      <td>False</td>\n",
       "      <td>False</td>\n",
       "      <td>False</td>\n",
       "      <td>False</td>\n",
       "      <td>False</td>\n",
       "      <td>False</td>\n",
       "      <td>True</td>\n",
       "      <td>False</td>\n",
       "    </tr>\n",
       "    <tr>\n",
       "      <th>2</th>\n",
       "      <td>0</td>\n",
       "      <td>235</td>\n",
       "      <td>1337</td>\n",
       "      <td>0</td>\n",
       "      <td>0</td>\n",
       "      <td>0</td>\n",
       "      <td>0</td>\n",
       "      <td>0</td>\n",
       "      <td>1</td>\n",
       "      <td>0</td>\n",
       "      <td>...</td>\n",
       "      <td>False</td>\n",
       "      <td>False</td>\n",
       "      <td>False</td>\n",
       "      <td>False</td>\n",
       "      <td>False</td>\n",
       "      <td>False</td>\n",
       "      <td>False</td>\n",
       "      <td>False</td>\n",
       "      <td>True</td>\n",
       "      <td>False</td>\n",
       "    </tr>\n",
       "    <tr>\n",
       "      <th>3</th>\n",
       "      <td>0</td>\n",
       "      <td>219</td>\n",
       "      <td>1337</td>\n",
       "      <td>0</td>\n",
       "      <td>0</td>\n",
       "      <td>0</td>\n",
       "      <td>0</td>\n",
       "      <td>0</td>\n",
       "      <td>1</td>\n",
       "      <td>0</td>\n",
       "      <td>...</td>\n",
       "      <td>False</td>\n",
       "      <td>False</td>\n",
       "      <td>False</td>\n",
       "      <td>False</td>\n",
       "      <td>False</td>\n",
       "      <td>False</td>\n",
       "      <td>False</td>\n",
       "      <td>False</td>\n",
       "      <td>True</td>\n",
       "      <td>False</td>\n",
       "    </tr>\n",
       "    <tr>\n",
       "      <th>4</th>\n",
       "      <td>0</td>\n",
       "      <td>217</td>\n",
       "      <td>2032</td>\n",
       "      <td>0</td>\n",
       "      <td>0</td>\n",
       "      <td>0</td>\n",
       "      <td>0</td>\n",
       "      <td>0</td>\n",
       "      <td>1</td>\n",
       "      <td>0</td>\n",
       "      <td>...</td>\n",
       "      <td>False</td>\n",
       "      <td>False</td>\n",
       "      <td>False</td>\n",
       "      <td>False</td>\n",
       "      <td>False</td>\n",
       "      <td>False</td>\n",
       "      <td>False</td>\n",
       "      <td>False</td>\n",
       "      <td>True</td>\n",
       "      <td>False</td>\n",
       "    </tr>\n",
       "    <tr>\n",
       "      <th>...</th>\n",
       "      <td>...</td>\n",
       "      <td>...</td>\n",
       "      <td>...</td>\n",
       "      <td>...</td>\n",
       "      <td>...</td>\n",
       "      <td>...</td>\n",
       "      <td>...</td>\n",
       "      <td>...</td>\n",
       "      <td>...</td>\n",
       "      <td>...</td>\n",
       "      <td>...</td>\n",
       "      <td>...</td>\n",
       "      <td>...</td>\n",
       "      <td>...</td>\n",
       "      <td>...</td>\n",
       "      <td>...</td>\n",
       "      <td>...</td>\n",
       "      <td>...</td>\n",
       "      <td>...</td>\n",
       "      <td>...</td>\n",
       "      <td>...</td>\n",
       "    </tr>\n",
       "    <tr>\n",
       "      <th>494016</th>\n",
       "      <td>0</td>\n",
       "      <td>310</td>\n",
       "      <td>1881</td>\n",
       "      <td>0</td>\n",
       "      <td>0</td>\n",
       "      <td>0</td>\n",
       "      <td>0</td>\n",
       "      <td>0</td>\n",
       "      <td>1</td>\n",
       "      <td>0</td>\n",
       "      <td>...</td>\n",
       "      <td>False</td>\n",
       "      <td>False</td>\n",
       "      <td>False</td>\n",
       "      <td>False</td>\n",
       "      <td>False</td>\n",
       "      <td>False</td>\n",
       "      <td>False</td>\n",
       "      <td>False</td>\n",
       "      <td>True</td>\n",
       "      <td>False</td>\n",
       "    </tr>\n",
       "    <tr>\n",
       "      <th>494017</th>\n",
       "      <td>0</td>\n",
       "      <td>282</td>\n",
       "      <td>2286</td>\n",
       "      <td>0</td>\n",
       "      <td>0</td>\n",
       "      <td>0</td>\n",
       "      <td>0</td>\n",
       "      <td>0</td>\n",
       "      <td>1</td>\n",
       "      <td>0</td>\n",
       "      <td>...</td>\n",
       "      <td>False</td>\n",
       "      <td>False</td>\n",
       "      <td>False</td>\n",
       "      <td>False</td>\n",
       "      <td>False</td>\n",
       "      <td>False</td>\n",
       "      <td>False</td>\n",
       "      <td>False</td>\n",
       "      <td>True</td>\n",
       "      <td>False</td>\n",
       "    </tr>\n",
       "    <tr>\n",
       "      <th>494018</th>\n",
       "      <td>0</td>\n",
       "      <td>203</td>\n",
       "      <td>1200</td>\n",
       "      <td>0</td>\n",
       "      <td>0</td>\n",
       "      <td>0</td>\n",
       "      <td>0</td>\n",
       "      <td>0</td>\n",
       "      <td>1</td>\n",
       "      <td>0</td>\n",
       "      <td>...</td>\n",
       "      <td>False</td>\n",
       "      <td>False</td>\n",
       "      <td>False</td>\n",
       "      <td>False</td>\n",
       "      <td>False</td>\n",
       "      <td>False</td>\n",
       "      <td>False</td>\n",
       "      <td>False</td>\n",
       "      <td>True</td>\n",
       "      <td>False</td>\n",
       "    </tr>\n",
       "    <tr>\n",
       "      <th>494019</th>\n",
       "      <td>0</td>\n",
       "      <td>291</td>\n",
       "      <td>1200</td>\n",
       "      <td>0</td>\n",
       "      <td>0</td>\n",
       "      <td>0</td>\n",
       "      <td>0</td>\n",
       "      <td>0</td>\n",
       "      <td>1</td>\n",
       "      <td>0</td>\n",
       "      <td>...</td>\n",
       "      <td>False</td>\n",
       "      <td>False</td>\n",
       "      <td>False</td>\n",
       "      <td>False</td>\n",
       "      <td>False</td>\n",
       "      <td>False</td>\n",
       "      <td>False</td>\n",
       "      <td>False</td>\n",
       "      <td>True</td>\n",
       "      <td>False</td>\n",
       "    </tr>\n",
       "    <tr>\n",
       "      <th>494020</th>\n",
       "      <td>0</td>\n",
       "      <td>219</td>\n",
       "      <td>1234</td>\n",
       "      <td>0</td>\n",
       "      <td>0</td>\n",
       "      <td>0</td>\n",
       "      <td>0</td>\n",
       "      <td>0</td>\n",
       "      <td>1</td>\n",
       "      <td>0</td>\n",
       "      <td>...</td>\n",
       "      <td>False</td>\n",
       "      <td>False</td>\n",
       "      <td>False</td>\n",
       "      <td>False</td>\n",
       "      <td>False</td>\n",
       "      <td>False</td>\n",
       "      <td>False</td>\n",
       "      <td>False</td>\n",
       "      <td>True</td>\n",
       "      <td>False</td>\n",
       "    </tr>\n",
       "  </tbody>\n",
       "</table>\n",
       "<p>494021 rows × 124 columns</p>\n",
       "</div>"
      ],
      "text/plain": [
       "        duration  src_bytes  dst_bytes  land  wrong_fragment  urgent  hot  \\\n",
       "0              0        181       5450     0               0       0    0   \n",
       "1              0        239        486     0               0       0    0   \n",
       "2              0        235       1337     0               0       0    0   \n",
       "3              0        219       1337     0               0       0    0   \n",
       "4              0        217       2032     0               0       0    0   \n",
       "...          ...        ...        ...   ...             ...     ...  ...   \n",
       "494016         0        310       1881     0               0       0    0   \n",
       "494017         0        282       2286     0               0       0    0   \n",
       "494018         0        203       1200     0               0       0    0   \n",
       "494019         0        291       1200     0               0       0    0   \n",
       "494020         0        219       1234     0               0       0    0   \n",
       "\n",
       "        num_failed_logins  logged_in  num_compromised  ...  flag_REJ  \\\n",
       "0                       0          1                0  ...     False   \n",
       "1                       0          1                0  ...     False   \n",
       "2                       0          1                0  ...     False   \n",
       "3                       0          1                0  ...     False   \n",
       "4                       0          1                0  ...     False   \n",
       "...                   ...        ...              ...  ...       ...   \n",
       "494016                  0          1                0  ...     False   \n",
       "494017                  0          1                0  ...     False   \n",
       "494018                  0          1                0  ...     False   \n",
       "494019                  0          1                0  ...     False   \n",
       "494020                  0          1                0  ...     False   \n",
       "\n",
       "        flag_RSTO  flag_RSTOS0  flag_RSTR  flag_S0  flag_S1  flag_S2  flag_S3  \\\n",
       "0           False        False      False    False    False    False    False   \n",
       "1           False        False      False    False    False    False    False   \n",
       "2           False        False      False    False    False    False    False   \n",
       "3           False        False      False    False    False    False    False   \n",
       "4           False        False      False    False    False    False    False   \n",
       "...           ...          ...        ...      ...      ...      ...      ...   \n",
       "494016      False        False      False    False    False    False    False   \n",
       "494017      False        False      False    False    False    False    False   \n",
       "494018      False        False      False    False    False    False    False   \n",
       "494019      False        False      False    False    False    False    False   \n",
       "494020      False        False      False    False    False    False    False   \n",
       "\n",
       "        flag_SF  flag_SH  \n",
       "0          True    False  \n",
       "1          True    False  \n",
       "2          True    False  \n",
       "3          True    False  \n",
       "4          True    False  \n",
       "...         ...      ...  \n",
       "494016     True    False  \n",
       "494017     True    False  \n",
       "494018     True    False  \n",
       "494019     True    False  \n",
       "494020     True    False  \n",
       "\n",
       "[494021 rows x 124 columns]"
      ]
     },
     "execution_count": 8,
     "metadata": {},
     "output_type": "execute_result"
    },
    {
     "name": "stdout",
     "output_type": "stream",
     "text": [
      "time: 281 ms (started: 2024-04-07 22:28:53 +05:30)\n"
     ]
    }
   ],
   "source": [
    "if not presaved_files:\n",
    "    train10 = pd.read_csv('data/kddcup.data_10_percent.gz', compression='gzip', names=columns)\n",
    "train10"
   ]
  },
  {
   "cell_type": "code",
   "execution_count": 9,
   "metadata": {},
   "outputs": [
    {
     "data": {
      "text/html": [
       "<div>\n",
       "<style scoped>\n",
       "    .dataframe tbody tr th:only-of-type {\n",
       "        vertical-align: middle;\n",
       "    }\n",
       "\n",
       "    .dataframe tbody tr th {\n",
       "        vertical-align: top;\n",
       "    }\n",
       "\n",
       "    .dataframe thead th {\n",
       "        text-align: right;\n",
       "    }\n",
       "</style>\n",
       "<table border=\"1\" class=\"dataframe\">\n",
       "  <thead>\n",
       "    <tr style=\"text-align: right;\">\n",
       "      <th></th>\n",
       "      <th>duration</th>\n",
       "      <th>src_bytes</th>\n",
       "      <th>dst_bytes</th>\n",
       "      <th>land</th>\n",
       "      <th>wrong_fragment</th>\n",
       "      <th>urgent</th>\n",
       "      <th>hot</th>\n",
       "      <th>num_failed_logins</th>\n",
       "      <th>logged_in</th>\n",
       "      <th>num_compromised</th>\n",
       "      <th>...</th>\n",
       "      <th>flag_REJ</th>\n",
       "      <th>flag_RSTO</th>\n",
       "      <th>flag_RSTOS0</th>\n",
       "      <th>flag_RSTR</th>\n",
       "      <th>flag_S0</th>\n",
       "      <th>flag_S1</th>\n",
       "      <th>flag_S2</th>\n",
       "      <th>flag_S3</th>\n",
       "      <th>flag_SF</th>\n",
       "      <th>flag_SH</th>\n",
       "    </tr>\n",
       "  </thead>\n",
       "  <tbody>\n",
       "    <tr>\n",
       "      <th>0</th>\n",
       "      <td>0</td>\n",
       "      <td>105</td>\n",
       "      <td>146</td>\n",
       "      <td>0</td>\n",
       "      <td>0</td>\n",
       "      <td>0</td>\n",
       "      <td>0</td>\n",
       "      <td>0</td>\n",
       "      <td>0</td>\n",
       "      <td>0</td>\n",
       "      <td>...</td>\n",
       "      <td>False</td>\n",
       "      <td>False</td>\n",
       "      <td>False</td>\n",
       "      <td>False</td>\n",
       "      <td>False</td>\n",
       "      <td>False</td>\n",
       "      <td>False</td>\n",
       "      <td>False</td>\n",
       "      <td>True</td>\n",
       "      <td>False</td>\n",
       "    </tr>\n",
       "    <tr>\n",
       "      <th>1</th>\n",
       "      <td>0</td>\n",
       "      <td>105</td>\n",
       "      <td>146</td>\n",
       "      <td>0</td>\n",
       "      <td>0</td>\n",
       "      <td>0</td>\n",
       "      <td>0</td>\n",
       "      <td>0</td>\n",
       "      <td>0</td>\n",
       "      <td>0</td>\n",
       "      <td>...</td>\n",
       "      <td>False</td>\n",
       "      <td>False</td>\n",
       "      <td>False</td>\n",
       "      <td>False</td>\n",
       "      <td>False</td>\n",
       "      <td>False</td>\n",
       "      <td>False</td>\n",
       "      <td>False</td>\n",
       "      <td>True</td>\n",
       "      <td>False</td>\n",
       "    </tr>\n",
       "    <tr>\n",
       "      <th>2</th>\n",
       "      <td>0</td>\n",
       "      <td>105</td>\n",
       "      <td>146</td>\n",
       "      <td>0</td>\n",
       "      <td>0</td>\n",
       "      <td>0</td>\n",
       "      <td>0</td>\n",
       "      <td>0</td>\n",
       "      <td>0</td>\n",
       "      <td>0</td>\n",
       "      <td>...</td>\n",
       "      <td>False</td>\n",
       "      <td>False</td>\n",
       "      <td>False</td>\n",
       "      <td>False</td>\n",
       "      <td>False</td>\n",
       "      <td>False</td>\n",
       "      <td>False</td>\n",
       "      <td>False</td>\n",
       "      <td>True</td>\n",
       "      <td>False</td>\n",
       "    </tr>\n",
       "    <tr>\n",
       "      <th>3</th>\n",
       "      <td>0</td>\n",
       "      <td>105</td>\n",
       "      <td>146</td>\n",
       "      <td>0</td>\n",
       "      <td>0</td>\n",
       "      <td>0</td>\n",
       "      <td>0</td>\n",
       "      <td>0</td>\n",
       "      <td>0</td>\n",
       "      <td>0</td>\n",
       "      <td>...</td>\n",
       "      <td>False</td>\n",
       "      <td>False</td>\n",
       "      <td>False</td>\n",
       "      <td>False</td>\n",
       "      <td>False</td>\n",
       "      <td>False</td>\n",
       "      <td>False</td>\n",
       "      <td>False</td>\n",
       "      <td>True</td>\n",
       "      <td>False</td>\n",
       "    </tr>\n",
       "    <tr>\n",
       "      <th>4</th>\n",
       "      <td>0</td>\n",
       "      <td>105</td>\n",
       "      <td>146</td>\n",
       "      <td>0</td>\n",
       "      <td>0</td>\n",
       "      <td>0</td>\n",
       "      <td>0</td>\n",
       "      <td>0</td>\n",
       "      <td>0</td>\n",
       "      <td>0</td>\n",
       "      <td>...</td>\n",
       "      <td>False</td>\n",
       "      <td>False</td>\n",
       "      <td>False</td>\n",
       "      <td>False</td>\n",
       "      <td>False</td>\n",
       "      <td>False</td>\n",
       "      <td>False</td>\n",
       "      <td>False</td>\n",
       "      <td>True</td>\n",
       "      <td>False</td>\n",
       "    </tr>\n",
       "    <tr>\n",
       "      <th>...</th>\n",
       "      <td>...</td>\n",
       "      <td>...</td>\n",
       "      <td>...</td>\n",
       "      <td>...</td>\n",
       "      <td>...</td>\n",
       "      <td>...</td>\n",
       "      <td>...</td>\n",
       "      <td>...</td>\n",
       "      <td>...</td>\n",
       "      <td>...</td>\n",
       "      <td>...</td>\n",
       "      <td>...</td>\n",
       "      <td>...</td>\n",
       "      <td>...</td>\n",
       "      <td>...</td>\n",
       "      <td>...</td>\n",
       "      <td>...</td>\n",
       "      <td>...</td>\n",
       "      <td>...</td>\n",
       "      <td>...</td>\n",
       "      <td>...</td>\n",
       "    </tr>\n",
       "    <tr>\n",
       "      <th>311024</th>\n",
       "      <td>0</td>\n",
       "      <td>105</td>\n",
       "      <td>147</td>\n",
       "      <td>0</td>\n",
       "      <td>0</td>\n",
       "      <td>0</td>\n",
       "      <td>0</td>\n",
       "      <td>0</td>\n",
       "      <td>0</td>\n",
       "      <td>0</td>\n",
       "      <td>...</td>\n",
       "      <td>False</td>\n",
       "      <td>False</td>\n",
       "      <td>False</td>\n",
       "      <td>False</td>\n",
       "      <td>False</td>\n",
       "      <td>False</td>\n",
       "      <td>False</td>\n",
       "      <td>False</td>\n",
       "      <td>True</td>\n",
       "      <td>False</td>\n",
       "    </tr>\n",
       "    <tr>\n",
       "      <th>311025</th>\n",
       "      <td>0</td>\n",
       "      <td>105</td>\n",
       "      <td>147</td>\n",
       "      <td>0</td>\n",
       "      <td>0</td>\n",
       "      <td>0</td>\n",
       "      <td>0</td>\n",
       "      <td>0</td>\n",
       "      <td>0</td>\n",
       "      <td>0</td>\n",
       "      <td>...</td>\n",
       "      <td>False</td>\n",
       "      <td>False</td>\n",
       "      <td>False</td>\n",
       "      <td>False</td>\n",
       "      <td>False</td>\n",
       "      <td>False</td>\n",
       "      <td>False</td>\n",
       "      <td>False</td>\n",
       "      <td>True</td>\n",
       "      <td>False</td>\n",
       "    </tr>\n",
       "    <tr>\n",
       "      <th>311026</th>\n",
       "      <td>0</td>\n",
       "      <td>105</td>\n",
       "      <td>147</td>\n",
       "      <td>0</td>\n",
       "      <td>0</td>\n",
       "      <td>0</td>\n",
       "      <td>0</td>\n",
       "      <td>0</td>\n",
       "      <td>0</td>\n",
       "      <td>0</td>\n",
       "      <td>...</td>\n",
       "      <td>False</td>\n",
       "      <td>False</td>\n",
       "      <td>False</td>\n",
       "      <td>False</td>\n",
       "      <td>False</td>\n",
       "      <td>False</td>\n",
       "      <td>False</td>\n",
       "      <td>False</td>\n",
       "      <td>True</td>\n",
       "      <td>False</td>\n",
       "    </tr>\n",
       "    <tr>\n",
       "      <th>311027</th>\n",
       "      <td>0</td>\n",
       "      <td>105</td>\n",
       "      <td>147</td>\n",
       "      <td>0</td>\n",
       "      <td>0</td>\n",
       "      <td>0</td>\n",
       "      <td>0</td>\n",
       "      <td>0</td>\n",
       "      <td>0</td>\n",
       "      <td>0</td>\n",
       "      <td>...</td>\n",
       "      <td>False</td>\n",
       "      <td>False</td>\n",
       "      <td>False</td>\n",
       "      <td>False</td>\n",
       "      <td>False</td>\n",
       "      <td>False</td>\n",
       "      <td>False</td>\n",
       "      <td>False</td>\n",
       "      <td>True</td>\n",
       "      <td>False</td>\n",
       "    </tr>\n",
       "    <tr>\n",
       "      <th>311028</th>\n",
       "      <td>0</td>\n",
       "      <td>105</td>\n",
       "      <td>147</td>\n",
       "      <td>0</td>\n",
       "      <td>0</td>\n",
       "      <td>0</td>\n",
       "      <td>0</td>\n",
       "      <td>0</td>\n",
       "      <td>0</td>\n",
       "      <td>0</td>\n",
       "      <td>...</td>\n",
       "      <td>False</td>\n",
       "      <td>False</td>\n",
       "      <td>False</td>\n",
       "      <td>False</td>\n",
       "      <td>False</td>\n",
       "      <td>False</td>\n",
       "      <td>False</td>\n",
       "      <td>False</td>\n",
       "      <td>True</td>\n",
       "      <td>False</td>\n",
       "    </tr>\n",
       "  </tbody>\n",
       "</table>\n",
       "<p>311029 rows × 124 columns</p>\n",
       "</div>"
      ],
      "text/plain": [
       "        duration  src_bytes  dst_bytes  land  wrong_fragment  urgent  hot  \\\n",
       "0              0        105        146     0               0       0    0   \n",
       "1              0        105        146     0               0       0    0   \n",
       "2              0        105        146     0               0       0    0   \n",
       "3              0        105        146     0               0       0    0   \n",
       "4              0        105        146     0               0       0    0   \n",
       "...          ...        ...        ...   ...             ...     ...  ...   \n",
       "311024         0        105        147     0               0       0    0   \n",
       "311025         0        105        147     0               0       0    0   \n",
       "311026         0        105        147     0               0       0    0   \n",
       "311027         0        105        147     0               0       0    0   \n",
       "311028         0        105        147     0               0       0    0   \n",
       "\n",
       "        num_failed_logins  logged_in  num_compromised  ...  flag_REJ  \\\n",
       "0                       0          0                0  ...     False   \n",
       "1                       0          0                0  ...     False   \n",
       "2                       0          0                0  ...     False   \n",
       "3                       0          0                0  ...     False   \n",
       "4                       0          0                0  ...     False   \n",
       "...                   ...        ...              ...  ...       ...   \n",
       "311024                  0          0                0  ...     False   \n",
       "311025                  0          0                0  ...     False   \n",
       "311026                  0          0                0  ...     False   \n",
       "311027                  0          0                0  ...     False   \n",
       "311028                  0          0                0  ...     False   \n",
       "\n",
       "        flag_RSTO  flag_RSTOS0  flag_RSTR  flag_S0  flag_S1  flag_S2  flag_S3  \\\n",
       "0           False        False      False    False    False    False    False   \n",
       "1           False        False      False    False    False    False    False   \n",
       "2           False        False      False    False    False    False    False   \n",
       "3           False        False      False    False    False    False    False   \n",
       "4           False        False      False    False    False    False    False   \n",
       "...           ...          ...        ...      ...      ...      ...      ...   \n",
       "311024      False        False      False    False    False    False    False   \n",
       "311025      False        False      False    False    False    False    False   \n",
       "311026      False        False      False    False    False    False    False   \n",
       "311027      False        False      False    False    False    False    False   \n",
       "311028      False        False      False    False    False    False    False   \n",
       "\n",
       "        flag_SF  flag_SH  \n",
       "0          True    False  \n",
       "1          True    False  \n",
       "2          True    False  \n",
       "3          True    False  \n",
       "4          True    False  \n",
       "...         ...      ...  \n",
       "311024     True    False  \n",
       "311025     True    False  \n",
       "311026     True    False  \n",
       "311027     True    False  \n",
       "311028     True    False  \n",
       "\n",
       "[311029 rows x 124 columns]"
      ]
     },
     "execution_count": 9,
     "metadata": {},
     "output_type": "execute_result"
    },
    {
     "name": "stdout",
     "output_type": "stream",
     "text": [
      "time: 156 ms (started: 2024-04-07 22:28:54 +05:30)\n"
     ]
    }
   ],
   "source": [
    "if not presaved_files:\n",
    "    test = pd.read_csv('data/corrected.gz', compression='gzip', names=columns)\n",
    "test"
   ]
  },
  {
   "cell_type": "markdown",
   "metadata": {},
   "source": [
    "**One-Hot Encoding Categorical Columns**"
   ]
  },
  {
   "cell_type": "code",
   "execution_count": 10,
   "metadata": {},
   "outputs": [
    {
     "name": "stdout",
     "output_type": "stream",
     "text": [
      "time: 0 ns (started: 2024-04-07 22:28:54 +05:30)\n"
     ]
    }
   ],
   "source": [
    "def one_hot_encode_df(df1, df2, df3, columns_to_encode):\n",
    "    dataframes = [df1, df2, df3]\n",
    "\n",
    "    # Concatenate the DataFrames vertically\n",
    "    concatenated_df = pd.concat(dataframes)\n",
    "\n",
    "    # Perform one-hot encoding on the concatenated DataFrame\n",
    "    encoded_df = pd.get_dummies(concatenated_df, columns=columns_to_encode)\n",
    "\n",
    "    # Split the encoded DataFrame back into the original three DataFrames\n",
    "    df1_encoded = encoded_df[:len(df1)]\n",
    "    df2_encoded = encoded_df[len(df1):len(df1)+len(df2)]\n",
    "    df3_encoded = encoded_df[len(df1)+len(df2):]\n",
    "\n",
    "    return df1_encoded, df2_encoded, df3_encoded"
   ]
  },
  {
   "cell_type": "code",
   "execution_count": 11,
   "metadata": {},
   "outputs": [
    {
     "name": "stdout",
     "output_type": "stream",
     "text": [
      "time: 16 ms (started: 2024-04-07 22:28:54 +05:30)\n"
     ]
    }
   ],
   "source": [
    "if not presaved_files:\n",
    "    train, train10, test = one_hot_encode_df(train, train10, test, ['protocol_type', 'service', 'flag'])"
   ]
  },
  {
   "cell_type": "markdown",
   "metadata": {},
   "source": [
    "**Label encode labels**"
   ]
  },
  {
   "cell_type": "code",
   "execution_count": 12,
   "metadata": {},
   "outputs": [
    {
     "name": "stdout",
     "output_type": "stream",
     "text": [
      "time: 0 ns (started: 2024-04-07 22:28:54 +05:30)\n"
     ]
    }
   ],
   "source": [
    "if not presaved_files:\n",
    "    le = preprocessing.LabelEncoder()\n",
    "    le.fit(pd.concat([train['label'], test['label']], axis=0))\n",
    "    le_mapping = dict(zip(le.classes_, le.transform(le.classes_)))\n",
    "\n",
    "    train.replace({'label': le_mapping}, inplace=True)\n",
    "    train10.replace({'label': le_mapping}, inplace=True)\n",
    "    test.replace({'label': le_mapping}, inplace=True)"
   ]
  },
  {
   "cell_type": "markdown",
   "metadata": {},
   "source": [
    "**Save Processed Data for Later Runs**"
   ]
  },
  {
   "cell_type": "code",
   "execution_count": 13,
   "metadata": {},
   "outputs": [
    {
     "data": {
      "text/html": [
       "<div>\n",
       "<style scoped>\n",
       "    .dataframe tbody tr th:only-of-type {\n",
       "        vertical-align: middle;\n",
       "    }\n",
       "\n",
       "    .dataframe tbody tr th {\n",
       "        vertical-align: top;\n",
       "    }\n",
       "\n",
       "    .dataframe thead th {\n",
       "        text-align: right;\n",
       "    }\n",
       "</style>\n",
       "<table border=\"1\" class=\"dataframe\">\n",
       "  <thead>\n",
       "    <tr style=\"text-align: right;\">\n",
       "      <th></th>\n",
       "      <th>duration</th>\n",
       "      <th>src_bytes</th>\n",
       "      <th>dst_bytes</th>\n",
       "      <th>land</th>\n",
       "      <th>wrong_fragment</th>\n",
       "      <th>urgent</th>\n",
       "      <th>hot</th>\n",
       "      <th>num_failed_logins</th>\n",
       "      <th>logged_in</th>\n",
       "      <th>num_compromised</th>\n",
       "      <th>...</th>\n",
       "      <th>flag_REJ</th>\n",
       "      <th>flag_RSTO</th>\n",
       "      <th>flag_RSTOS0</th>\n",
       "      <th>flag_RSTR</th>\n",
       "      <th>flag_S0</th>\n",
       "      <th>flag_S1</th>\n",
       "      <th>flag_S2</th>\n",
       "      <th>flag_S3</th>\n",
       "      <th>flag_SF</th>\n",
       "      <th>flag_SH</th>\n",
       "    </tr>\n",
       "  </thead>\n",
       "  <tbody>\n",
       "    <tr>\n",
       "      <th>0</th>\n",
       "      <td>0</td>\n",
       "      <td>215</td>\n",
       "      <td>45076</td>\n",
       "      <td>0</td>\n",
       "      <td>0</td>\n",
       "      <td>0</td>\n",
       "      <td>0</td>\n",
       "      <td>0</td>\n",
       "      <td>1</td>\n",
       "      <td>0</td>\n",
       "      <td>...</td>\n",
       "      <td>False</td>\n",
       "      <td>False</td>\n",
       "      <td>False</td>\n",
       "      <td>False</td>\n",
       "      <td>False</td>\n",
       "      <td>False</td>\n",
       "      <td>False</td>\n",
       "      <td>False</td>\n",
       "      <td>True</td>\n",
       "      <td>False</td>\n",
       "    </tr>\n",
       "    <tr>\n",
       "      <th>1</th>\n",
       "      <td>0</td>\n",
       "      <td>162</td>\n",
       "      <td>4528</td>\n",
       "      <td>0</td>\n",
       "      <td>0</td>\n",
       "      <td>0</td>\n",
       "      <td>0</td>\n",
       "      <td>0</td>\n",
       "      <td>1</td>\n",
       "      <td>0</td>\n",
       "      <td>...</td>\n",
       "      <td>False</td>\n",
       "      <td>False</td>\n",
       "      <td>False</td>\n",
       "      <td>False</td>\n",
       "      <td>False</td>\n",
       "      <td>False</td>\n",
       "      <td>False</td>\n",
       "      <td>False</td>\n",
       "      <td>True</td>\n",
       "      <td>False</td>\n",
       "    </tr>\n",
       "    <tr>\n",
       "      <th>2</th>\n",
       "      <td>0</td>\n",
       "      <td>236</td>\n",
       "      <td>1228</td>\n",
       "      <td>0</td>\n",
       "      <td>0</td>\n",
       "      <td>0</td>\n",
       "      <td>0</td>\n",
       "      <td>0</td>\n",
       "      <td>1</td>\n",
       "      <td>0</td>\n",
       "      <td>...</td>\n",
       "      <td>False</td>\n",
       "      <td>False</td>\n",
       "      <td>False</td>\n",
       "      <td>False</td>\n",
       "      <td>False</td>\n",
       "      <td>False</td>\n",
       "      <td>False</td>\n",
       "      <td>False</td>\n",
       "      <td>True</td>\n",
       "      <td>False</td>\n",
       "    </tr>\n",
       "    <tr>\n",
       "      <th>3</th>\n",
       "      <td>0</td>\n",
       "      <td>233</td>\n",
       "      <td>2032</td>\n",
       "      <td>0</td>\n",
       "      <td>0</td>\n",
       "      <td>0</td>\n",
       "      <td>0</td>\n",
       "      <td>0</td>\n",
       "      <td>1</td>\n",
       "      <td>0</td>\n",
       "      <td>...</td>\n",
       "      <td>False</td>\n",
       "      <td>False</td>\n",
       "      <td>False</td>\n",
       "      <td>False</td>\n",
       "      <td>False</td>\n",
       "      <td>False</td>\n",
       "      <td>False</td>\n",
       "      <td>False</td>\n",
       "      <td>True</td>\n",
       "      <td>False</td>\n",
       "    </tr>\n",
       "    <tr>\n",
       "      <th>4</th>\n",
       "      <td>0</td>\n",
       "      <td>239</td>\n",
       "      <td>486</td>\n",
       "      <td>0</td>\n",
       "      <td>0</td>\n",
       "      <td>0</td>\n",
       "      <td>0</td>\n",
       "      <td>0</td>\n",
       "      <td>1</td>\n",
       "      <td>0</td>\n",
       "      <td>...</td>\n",
       "      <td>False</td>\n",
       "      <td>False</td>\n",
       "      <td>False</td>\n",
       "      <td>False</td>\n",
       "      <td>False</td>\n",
       "      <td>False</td>\n",
       "      <td>False</td>\n",
       "      <td>False</td>\n",
       "      <td>True</td>\n",
       "      <td>False</td>\n",
       "    </tr>\n",
       "    <tr>\n",
       "      <th>...</th>\n",
       "      <td>...</td>\n",
       "      <td>...</td>\n",
       "      <td>...</td>\n",
       "      <td>...</td>\n",
       "      <td>...</td>\n",
       "      <td>...</td>\n",
       "      <td>...</td>\n",
       "      <td>...</td>\n",
       "      <td>...</td>\n",
       "      <td>...</td>\n",
       "      <td>...</td>\n",
       "      <td>...</td>\n",
       "      <td>...</td>\n",
       "      <td>...</td>\n",
       "      <td>...</td>\n",
       "      <td>...</td>\n",
       "      <td>...</td>\n",
       "      <td>...</td>\n",
       "      <td>...</td>\n",
       "      <td>...</td>\n",
       "      <td>...</td>\n",
       "    </tr>\n",
       "    <tr>\n",
       "      <th>4898425</th>\n",
       "      <td>0</td>\n",
       "      <td>219</td>\n",
       "      <td>244</td>\n",
       "      <td>0</td>\n",
       "      <td>0</td>\n",
       "      <td>0</td>\n",
       "      <td>0</td>\n",
       "      <td>0</td>\n",
       "      <td>1</td>\n",
       "      <td>0</td>\n",
       "      <td>...</td>\n",
       "      <td>False</td>\n",
       "      <td>False</td>\n",
       "      <td>False</td>\n",
       "      <td>False</td>\n",
       "      <td>False</td>\n",
       "      <td>False</td>\n",
       "      <td>False</td>\n",
       "      <td>False</td>\n",
       "      <td>True</td>\n",
       "      <td>False</td>\n",
       "    </tr>\n",
       "    <tr>\n",
       "      <th>4898426</th>\n",
       "      <td>0</td>\n",
       "      <td>212</td>\n",
       "      <td>2288</td>\n",
       "      <td>0</td>\n",
       "      <td>0</td>\n",
       "      <td>0</td>\n",
       "      <td>0</td>\n",
       "      <td>0</td>\n",
       "      <td>1</td>\n",
       "      <td>0</td>\n",
       "      <td>...</td>\n",
       "      <td>False</td>\n",
       "      <td>False</td>\n",
       "      <td>False</td>\n",
       "      <td>False</td>\n",
       "      <td>False</td>\n",
       "      <td>False</td>\n",
       "      <td>False</td>\n",
       "      <td>False</td>\n",
       "      <td>True</td>\n",
       "      <td>False</td>\n",
       "    </tr>\n",
       "    <tr>\n",
       "      <th>4898427</th>\n",
       "      <td>0</td>\n",
       "      <td>219</td>\n",
       "      <td>236</td>\n",
       "      <td>0</td>\n",
       "      <td>0</td>\n",
       "      <td>0</td>\n",
       "      <td>0</td>\n",
       "      <td>0</td>\n",
       "      <td>1</td>\n",
       "      <td>0</td>\n",
       "      <td>...</td>\n",
       "      <td>False</td>\n",
       "      <td>False</td>\n",
       "      <td>False</td>\n",
       "      <td>False</td>\n",
       "      <td>False</td>\n",
       "      <td>False</td>\n",
       "      <td>False</td>\n",
       "      <td>False</td>\n",
       "      <td>True</td>\n",
       "      <td>False</td>\n",
       "    </tr>\n",
       "    <tr>\n",
       "      <th>4898428</th>\n",
       "      <td>0</td>\n",
       "      <td>218</td>\n",
       "      <td>3610</td>\n",
       "      <td>0</td>\n",
       "      <td>0</td>\n",
       "      <td>0</td>\n",
       "      <td>0</td>\n",
       "      <td>0</td>\n",
       "      <td>1</td>\n",
       "      <td>0</td>\n",
       "      <td>...</td>\n",
       "      <td>False</td>\n",
       "      <td>False</td>\n",
       "      <td>False</td>\n",
       "      <td>False</td>\n",
       "      <td>False</td>\n",
       "      <td>False</td>\n",
       "      <td>False</td>\n",
       "      <td>False</td>\n",
       "      <td>True</td>\n",
       "      <td>False</td>\n",
       "    </tr>\n",
       "    <tr>\n",
       "      <th>4898429</th>\n",
       "      <td>0</td>\n",
       "      <td>219</td>\n",
       "      <td>1234</td>\n",
       "      <td>0</td>\n",
       "      <td>0</td>\n",
       "      <td>0</td>\n",
       "      <td>0</td>\n",
       "      <td>0</td>\n",
       "      <td>1</td>\n",
       "      <td>0</td>\n",
       "      <td>...</td>\n",
       "      <td>False</td>\n",
       "      <td>False</td>\n",
       "      <td>False</td>\n",
       "      <td>False</td>\n",
       "      <td>False</td>\n",
       "      <td>False</td>\n",
       "      <td>False</td>\n",
       "      <td>False</td>\n",
       "      <td>True</td>\n",
       "      <td>False</td>\n",
       "    </tr>\n",
       "  </tbody>\n",
       "</table>\n",
       "<p>4898430 rows × 124 columns</p>\n",
       "</div>"
      ],
      "text/plain": [
       "         duration  src_bytes  dst_bytes  land  wrong_fragment  urgent  hot  \\\n",
       "0               0        215      45076     0               0       0    0   \n",
       "1               0        162       4528     0               0       0    0   \n",
       "2               0        236       1228     0               0       0    0   \n",
       "3               0        233       2032     0               0       0    0   \n",
       "4               0        239        486     0               0       0    0   \n",
       "...           ...        ...        ...   ...             ...     ...  ...   \n",
       "4898425         0        219        244     0               0       0    0   \n",
       "4898426         0        212       2288     0               0       0    0   \n",
       "4898427         0        219        236     0               0       0    0   \n",
       "4898428         0        218       3610     0               0       0    0   \n",
       "4898429         0        219       1234     0               0       0    0   \n",
       "\n",
       "         num_failed_logins  logged_in  num_compromised  ...  flag_REJ  \\\n",
       "0                        0          1                0  ...     False   \n",
       "1                        0          1                0  ...     False   \n",
       "2                        0          1                0  ...     False   \n",
       "3                        0          1                0  ...     False   \n",
       "4                        0          1                0  ...     False   \n",
       "...                    ...        ...              ...  ...       ...   \n",
       "4898425                  0          1                0  ...     False   \n",
       "4898426                  0          1                0  ...     False   \n",
       "4898427                  0          1                0  ...     False   \n",
       "4898428                  0          1                0  ...     False   \n",
       "4898429                  0          1                0  ...     False   \n",
       "\n",
       "         flag_RSTO  flag_RSTOS0  flag_RSTR  flag_S0  flag_S1  flag_S2  \\\n",
       "0            False        False      False    False    False    False   \n",
       "1            False        False      False    False    False    False   \n",
       "2            False        False      False    False    False    False   \n",
       "3            False        False      False    False    False    False   \n",
       "4            False        False      False    False    False    False   \n",
       "...            ...          ...        ...      ...      ...      ...   \n",
       "4898425      False        False      False    False    False    False   \n",
       "4898426      False        False      False    False    False    False   \n",
       "4898427      False        False      False    False    False    False   \n",
       "4898428      False        False      False    False    False    False   \n",
       "4898429      False        False      False    False    False    False   \n",
       "\n",
       "         flag_S3  flag_SF  flag_SH  \n",
       "0          False     True    False  \n",
       "1          False     True    False  \n",
       "2          False     True    False  \n",
       "3          False     True    False  \n",
       "4          False     True    False  \n",
       "...          ...      ...      ...  \n",
       "4898425    False     True    False  \n",
       "4898426    False     True    False  \n",
       "4898427    False     True    False  \n",
       "4898428    False     True    False  \n",
       "4898429    False     True    False  \n",
       "\n",
       "[4898430 rows x 124 columns]"
      ]
     },
     "execution_count": 13,
     "metadata": {},
     "output_type": "execute_result"
    },
    {
     "name": "stdout",
     "output_type": "stream",
     "text": [
      "time: 1.14 s (started: 2024-04-07 22:28:54 +05:30)\n"
     ]
    }
   ],
   "source": [
    "train.iloc[:-1]"
   ]
  },
  {
   "cell_type": "code",
   "execution_count": 14,
   "metadata": {},
   "outputs": [
    {
     "name": "stdout",
     "output_type": "stream",
     "text": [
      "time: 0 ns (started: 2024-04-07 22:28:55 +05:30)\n"
     ]
    }
   ],
   "source": [
    "if not presaved_files:\n",
    "    train.to_csv(\"train.gz\", index=False, compression=\"gzip\")\n",
    "    train10.to_csv(\"train10.gz\", index=False, compression=\"gzip\")\n",
    "    test.to_csv(\"test.gz\", index=False, compression=\"gzip\")\n",
    "    \n",
    "    presaved_files = True"
   ]
  },
  {
   "cell_type": "markdown",
   "metadata": {},
   "source": [
    "**Dropping the label column**"
   ]
  },
  {
   "cell_type": "code",
   "execution_count": 15,
   "metadata": {},
   "outputs": [
    {
     "name": "stdout",
     "output_type": "stream",
     "text": [
      "time: 766 ms (started: 2024-04-07 22:28:55 +05:30)\n"
     ]
    }
   ],
   "source": [
    "\n",
    "train_label = train.loc[:, 'label']\n",
    "train.drop(['label'], axis=1, inplace=True)"
   ]
  },
  {
   "cell_type": "code",
   "execution_count": 16,
   "metadata": {},
   "outputs": [
    {
     "name": "stdout",
     "output_type": "stream",
     "text": [
      "time: 125 ms (started: 2024-04-07 22:28:56 +05:30)\n"
     ]
    }
   ],
   "source": [
    "train10_label = train10.loc[:, 'label']\n",
    "train10.drop(['label'], axis=1, inplace=True)"
   ]
  },
  {
   "cell_type": "code",
   "execution_count": 17,
   "metadata": {},
   "outputs": [
    {
     "name": "stdout",
     "output_type": "stream",
     "text": [
      "time: 62 ms (started: 2024-04-07 22:28:56 +05:30)\n"
     ]
    }
   ],
   "source": [
    "test_label = test.loc[:, 'label']\n",
    "test.drop(['label'], axis=1, inplace=True)"
   ]
  },
  {
   "cell_type": "markdown",
   "metadata": {},
   "source": [
    "**Dataset Analysis**"
   ]
  },
  {
   "cell_type": "code",
   "execution_count": 18,
   "metadata": {},
   "outputs": [
    {
     "name": "stdout",
     "output_type": "stream",
     "text": [
      "<class 'pandas.core.frame.DataFrame'>\n",
      "RangeIndex: 4898431 entries, 0 to 4898430\n",
      "Columns: 123 entries, duration to flag_SH\n",
      "dtypes: bool(85), float64(15), int64(23)\n",
      "memory usage: 1.8 GB\n",
      "time: 16 ms (started: 2024-04-07 22:28:56 +05:30)\n"
     ]
    }
   ],
   "source": [
    "train.info()"
   ]
  },
  {
   "cell_type": "code",
   "execution_count": 19,
   "metadata": {},
   "outputs": [
    {
     "name": "stdout",
     "output_type": "stream",
     "text": [
      "<class 'pandas.core.frame.DataFrame'>\n",
      "RangeIndex: 494021 entries, 0 to 494020\n",
      "Columns: 123 entries, duration to flag_SH\n",
      "dtypes: bool(85), float64(15), int64(23)\n",
      "memory usage: 183.3 MB\n",
      "time: 16 ms (started: 2024-04-07 22:28:56 +05:30)\n"
     ]
    }
   ],
   "source": [
    "train10.info()"
   ]
  },
  {
   "cell_type": "code",
   "execution_count": 20,
   "metadata": {},
   "outputs": [
    {
     "name": "stdout",
     "output_type": "stream",
     "text": [
      "<class 'pandas.core.frame.DataFrame'>\n",
      "RangeIndex: 311029 entries, 0 to 311028\n",
      "Columns: 123 entries, duration to flag_SH\n",
      "dtypes: bool(85), float64(15), int64(23)\n",
      "memory usage: 115.4 MB\n",
      "time: 16 ms (started: 2024-04-07 22:28:56 +05:30)\n"
     ]
    }
   ],
   "source": [
    "test.info()"
   ]
  },
  {
   "cell_type": "code",
   "execution_count": 21,
   "metadata": {},
   "outputs": [
    {
     "data": {
      "text/plain": [
       "duration           9883\n",
       "src_bytes          7195\n",
       "dst_bytes         21493\n",
       "land                  2\n",
       "wrong_fragment        3\n",
       "                  ...  \n",
       "flag_S1               2\n",
       "flag_S2               2\n",
       "flag_S3               2\n",
       "flag_SF               2\n",
       "flag_SH               2\n",
       "Length: 123, dtype: int64"
      ]
     },
     "execution_count": 21,
     "metadata": {},
     "output_type": "execute_result"
    },
    {
     "name": "stdout",
     "output_type": "stream",
     "text": [
      "time: 5.25 s (started: 2024-04-07 22:28:56 +05:30)\n"
     ]
    }
   ],
   "source": [
    "train.nunique()"
   ]
  },
  {
   "cell_type": "code",
   "execution_count": 22,
   "metadata": {},
   "outputs": [
    {
     "data": {
      "text/plain": [
       "duration           2495\n",
       "src_bytes          3300\n",
       "dst_bytes         10725\n",
       "land                  2\n",
       "wrong_fragment        3\n",
       "                  ...  \n",
       "flag_S1               2\n",
       "flag_S2               2\n",
       "flag_S3               2\n",
       "flag_SF               2\n",
       "flag_SH               2\n",
       "Length: 123, dtype: int64"
      ]
     },
     "execution_count": 22,
     "metadata": {},
     "output_type": "execute_result"
    },
    {
     "name": "stdout",
     "output_type": "stream",
     "text": [
      "time: 562 ms (started: 2024-04-07 22:29:01 +05:30)\n"
     ]
    }
   ],
   "source": [
    "train10.nunique()"
   ]
  },
  {
   "cell_type": "code",
   "execution_count": 23,
   "metadata": {},
   "outputs": [
    {
     "data": {
      "text/plain": [
       "duration           745\n",
       "src_bytes         2504\n",
       "dst_bytes         9202\n",
       "land                 2\n",
       "wrong_fragment       3\n",
       "                  ... \n",
       "flag_S1              2\n",
       "flag_S2              2\n",
       "flag_S3              2\n",
       "flag_SF              2\n",
       "flag_SH              2\n",
       "Length: 123, dtype: int64"
      ]
     },
     "execution_count": 23,
     "metadata": {},
     "output_type": "execute_result"
    },
    {
     "name": "stdout",
     "output_type": "stream",
     "text": [
      "time: 391 ms (started: 2024-04-07 22:29:02 +05:30)\n"
     ]
    }
   ],
   "source": [
    "test.nunique()"
   ]
  },
  {
   "cell_type": "markdown",
   "metadata": {},
   "source": [
    "**Removing `num_outbound_cmds` column from dataset as it has only one value**"
   ]
  },
  {
   "cell_type": "code",
   "execution_count": 24,
   "metadata": {},
   "outputs": [
    {
     "name": "stdout",
     "output_type": "stream",
     "text": [
      "time: 1 s (started: 2024-04-07 22:29:02 +05:30)\n"
     ]
    }
   ],
   "source": [
    "train.drop(columns=['num_outbound_cmds'], inplace=True)"
   ]
  },
  {
   "cell_type": "code",
   "execution_count": 25,
   "metadata": {},
   "outputs": [
    {
     "name": "stdout",
     "output_type": "stream",
     "text": [
      "time: 109 ms (started: 2024-04-07 22:29:03 +05:30)\n"
     ]
    }
   ],
   "source": [
    "train10.drop(columns=['num_outbound_cmds'], inplace=True)"
   ]
  },
  {
   "cell_type": "code",
   "execution_count": 26,
   "metadata": {},
   "outputs": [
    {
     "name": "stdout",
     "output_type": "stream",
     "text": [
      "time: 78 ms (started: 2024-04-07 22:29:03 +05:30)\n"
     ]
    }
   ],
   "source": [
    "test.drop(columns=['num_outbound_cmds'], inplace=True)"
   ]
  },
  {
   "cell_type": "markdown",
   "metadata": {},
   "source": [
    "**Converting to NumPy arrays**"
   ]
  },
  {
   "cell_type": "code",
   "execution_count": 27,
   "metadata": {},
   "outputs": [
    {
     "name": "stdout",
     "output_type": "stream",
     "text": [
      "time: 1min 15s (started: 2024-04-07 22:29:04 +05:30)\n"
     ]
    }
   ],
   "source": [
    "x_train = train.to_numpy().astype('float32')\n",
    "y_train = train_label.to_numpy().astype('uint8')\n",
    "\n",
    "x_train10 = train10.to_numpy().astype('float32')\n",
    "y_train10 = train10_label.to_numpy().astype('uint8')\n",
    "\n",
    "x_test = test.to_numpy().astype('float32')\n",
    "y_test = test_label.to_numpy().astype('uint8')"
   ]
  },
  {
   "cell_type": "markdown",
   "metadata": {},
   "source": [
    "**Running PCA on dataset to reduce dimensionality**"
   ]
  },
  {
   "cell_type": "code",
   "execution_count": 28,
   "metadata": {},
   "outputs": [
    {
     "data": {
      "text/plain": [
       "2"
      ]
     },
     "execution_count": 28,
     "metadata": {},
     "output_type": "execute_result"
    },
    {
     "name": "stdout",
     "output_type": "stream",
     "text": [
      "time: 1min 8s (started: 2024-04-07 22:30:19 +05:30)\n"
     ]
    }
   ],
   "source": [
    "pca = PCA()\n",
    "pca.fit(x_train)\n",
    "\n",
    "# Calculate the number of components based on the desired variance ratio\n",
    "explained_variance_ratio_cumsum = pca.explained_variance_ratio_.cumsum()\n",
    "n_components = len(explained_variance_ratio_cumsum[explained_variance_ratio_cumsum < 0.9999]) + 1\n",
    "n_components"
   ]
  },
  {
   "cell_type": "code",
   "execution_count": 29,
   "metadata": {},
   "outputs": [
    {
     "data": {
      "image/png": "[encoded data removed]",
      "text/plain": [
       "<Figure size 600x500 with 1 Axes>"
      ]
     },
     "metadata": {},
     "output_type": "display_data"
    },
    {
     "name": "stdout",
     "output_type": "stream",
     "text": [
      "time: 859 ms (started: 2024-04-07 22:31:28 +05:30)\n"
     ]
    }
   ],
   "source": [
    "# Determine explained variance using explained_variance_ration_ attribute\n",
    "exp_var_pca = pca.explained_variance_ratio_\n",
    "\n",
    "# Cumulative sum of eigenvalues; This will be used to create step plot\n",
    "# for visualizing the variance explained by each principal component.\n",
    "cum_sum_eigenvalues = np.cumsum(exp_var_pca)\n",
    "\n",
    "# Create the visualization plot\n",
    "plt.figure(figsize=(6,5))\n",
    "plt.bar(range(0, len(exp_var_pca)), exp_var_pca, alpha=0.5, align='center', label='Individual explained variance')\n",
    "plt.step(range(0, len(cum_sum_eigenvalues)), cum_sum_eigenvalues, where='mid',label='Cumulative explained variance')\n",
    "\n",
    "plt.xlabel('Principal component index')\n",
    "plt.ylabel('Explained variance ratio')\n",
    "plt.legend(loc='best')\n",
    "plt.tight_layout()\n",
    "plt.show()"
   ]
  },
  {
   "cell_type": "code",
   "execution_count": 30,
   "metadata": {},
   "outputs": [
    {
     "name": "stdout",
     "output_type": "stream",
     "text": [
      "time: 4.02 s (started: 2024-04-07 22:31:29 +05:30)\n"
     ]
    }
   ],
   "source": [
    "x_train = pca.transform(x_train)[:, :n_components]"
   ]
  },
  {
   "cell_type": "code",
   "execution_count": 31,
   "metadata": {},
   "outputs": [
    {
     "name": "stdout",
     "output_type": "stream",
     "text": [
      "time: 453 ms (started: 2024-04-07 22:31:33 +05:30)\n"
     ]
    }
   ],
   "source": [
    "x_train10 = pca.transform(x_train10)[:, :n_components]"
   ]
  },
  {
   "cell_type": "code",
   "execution_count": 32,
   "metadata": {},
   "outputs": [
    {
     "name": "stdout",
     "output_type": "stream",
     "text": [
      "time: 282 ms (started: 2024-04-07 22:31:33 +05:30)\n"
     ]
    }
   ],
   "source": [
    "x_test = pca.transform(x_test)[:, :n_components]"
   ]
  },
  {
   "cell_type": "markdown",
   "metadata": {},
   "source": [
    "**Finalized Dataset**"
   ]
  },
  {
   "cell_type": "code",
   "execution_count": 33,
   "metadata": {},
   "outputs": [
    {
     "data": {
      "text/plain": [
       "array([[-1.6060270e+03,  4.3982867e+04],\n",
       "       [-1.6715608e+03,  3.4348926e+03],\n",
       "       [-1.5985808e+03,  1.3487032e+02],\n",
       "       ...,\n",
       "       [-1.6158446e+03,  2.5168752e+03],\n",
       "       [-1.6155791e+03,  1.4087549e+02],\n",
       "       [-1.6156211e+03,  4.8755445e+00]], dtype=float32)"
      ]
     },
     "execution_count": 33,
     "metadata": {},
     "output_type": "execute_result"
    },
    {
     "name": "stdout",
     "output_type": "stream",
     "text": [
      "time: 15 ms (started: 2024-04-07 22:31:34 +05:30)\n"
     ]
    }
   ],
   "source": [
    "x_train"
   ]
  },
  {
   "cell_type": "code",
   "execution_count": 34,
   "metadata": {},
   "outputs": [
    {
     "data": {
      "text/plain": [
       "array([16, 16, 16, ..., 16, 16, 16], dtype=uint8)"
      ]
     },
     "execution_count": 34,
     "metadata": {},
     "output_type": "execute_result"
    },
    {
     "name": "stdout",
     "output_type": "stream",
     "text": [
      "time: 0 ns (started: 2024-04-07 22:31:34 +05:30)\n"
     ]
    }
   ],
   "source": [
    "y_train"
   ]
  },
  {
   "cell_type": "code",
   "execution_count": 35,
   "metadata": {},
   "outputs": [
    {
     "data": {
      "text/plain": [
       "array([[-1652.2758  ,  4356.8867  ],\n",
       "       [-1595.8102  ,  -607.1305  ],\n",
       "       [-1599.5471  ,   243.87059 ],\n",
       "       ...,\n",
       "       [-1631.5896  ,   106.88045 ],\n",
       "       [-1543.5896  ,   106.853264],\n",
       "       [-1615.5791  ,   140.87549 ]], dtype=float32)"
      ]
     },
     "execution_count": 35,
     "metadata": {},
     "output_type": "execute_result"
    },
    {
     "name": "stdout",
     "output_type": "stream",
     "text": [
      "time: 0 ns (started: 2024-04-07 22:31:34 +05:30)\n"
     ]
    }
   ],
   "source": [
    "x_train10"
   ]
  },
  {
   "cell_type": "code",
   "execution_count": 36,
   "metadata": {},
   "outputs": [
    {
     "data": {
      "text/plain": [
       "array([16, 16, 16, ..., 16, 16, 16], dtype=uint8)"
      ]
     },
     "execution_count": 36,
     "metadata": {},
     "output_type": "execute_result"
    },
    {
     "name": "stdout",
     "output_type": "stream",
     "text": [
      "time: 15 ms (started: 2024-04-07 22:31:34 +05:30)\n"
     ]
    }
   ],
   "source": [
    "y_train10"
   ]
  },
  {
   "cell_type": "code",
   "execution_count": 37,
   "metadata": {
    "scrolled": true
   },
   "outputs": [
    {
     "data": {
      "text/plain": [
       "array([[-1729.9153 ,  -947.08905],\n",
       "       [-1729.9153 ,  -947.08905],\n",
       "       [-1729.9153 ,  -947.08905],\n",
       "       ...,\n",
       "       [-1729.915  ,  -946.08905],\n",
       "       [-1729.915  ,  -946.08905],\n",
       "       [-1729.915  ,  -946.08905]], dtype=float32)"
      ]
     },
     "execution_count": 37,
     "metadata": {},
     "output_type": "execute_result"
    },
    {
     "name": "stdout",
     "output_type": "stream",
     "text": [
      "time: 16 ms (started: 2024-04-07 22:31:34 +05:30)\n"
     ]
    }
   ],
   "source": [
    "x_test"
   ]
  },
  {
   "cell_type": "code",
   "execution_count": 38,
   "metadata": {},
   "outputs": [
    {
     "data": {
      "text/plain": [
       "array([16, 16, 16, ..., 16, 16, 16], dtype=uint8)"
      ]
     },
     "execution_count": 38,
     "metadata": {},
     "output_type": "execute_result"
    },
    {
     "name": "stdout",
     "output_type": "stream",
     "text": [
      "time: 0 ns (started: 2024-04-07 22:31:34 +05:30)\n"
     ]
    }
   ],
   "source": [
    "y_test"
   ]
  },
  {
   "cell_type": "markdown",
   "metadata": {
    "id": "VsmeVPrIZak0"
   },
   "source": [
    "## 2. Clustering Using K-Means \n",
    "\n",
    "We will use K-Means to cluster the network traffic data and identify anomalies. Every data traffic is a feature vector of 41 dimension. We will use this feature representation to do the clustering.\n",
    "\n",
    "• We will change the K of the K-means algorithm between {7, 15, 23, 31,45} clusters. We will produce different clusters."
   ]
  },
  {
   "cell_type": "code",
   "execution_count": 39,
   "metadata": {},
   "outputs": [
    {
     "name": "stdout",
     "output_type": "stream",
     "text": [
      "time: 0 ns (started: 2024-04-07 22:31:34 +05:30)\n"
     ]
    }
   ],
   "source": [
    "def k_means_clustering(X, k, epsilon=1e-6, num_iters=100):\n",
    "    # Initialize k centroids using k-means++\n",
    "    centroids, _ = kmeans_plusplus(X, n_clusters=k)\n",
    "    \n",
    "    old_centroids = np.copy(centroids)\n",
    "    for t in range(num_iters):\n",
    "        clusters = [set() for i in range(k)]\n",
    "        \n",
    "        # Cluster Assignment Step\n",
    "        labels = np.argmin(np.linalg.norm(X[:, np.newaxis] - centroids, axis=2), axis=1)\n",
    "    \n",
    "        # Centroid Update Step\n",
    "        for i in range(k):\n",
    "            clusters[i] = np.where(labels==i)[0]\n",
    "            if len(clusters[i]) == 0:\n",
    "                centroids[i] = None\n",
    "            else:\n",
    "                centroids[i] = np.mean(X[clusters[i]], axis=0)\n",
    "\n",
    "        if np.linalg.norm(centroids - old_centroids) <= epsilon:\n",
    "            labels = np.argmin(np.linalg.norm(X[:, np.newaxis] - centroids, axis=2), axis=1)\n",
    "            return labels, centroids\n",
    "        else:\n",
    "            old_centroids = np.copy(centroids)\n",
    "    \n",
    "    labels = np.argmin(np.linalg.norm(X[:, np.newaxis] - centroids, axis=2), axis=1)\n",
    "    return labels, centroids"
   ]
  },
  {
   "cell_type": "code",
   "execution_count": 40,
   "metadata": {},
   "outputs": [
    {
     "name": "stdout",
     "output_type": "stream",
     "text": [
      "time: 0 ns (started: 2024-04-07 22:31:34 +05:30)\n"
     ]
    }
   ],
   "source": [
    "def k_means_test(x_test, centroids):\n",
    "    return np.argmin(np.linalg.norm(x_test[:, np.newaxis] - centroids, axis=2), axis=1)"
   ]
  },
  {
   "cell_type": "code",
   "execution_count": 41,
   "metadata": {},
   "outputs": [
    {
     "name": "stdout",
     "output_type": "stream",
     "text": [
      "@ k = 7\n",
      "@ k = 15\n",
      "@ k = 23\n",
      "@ k = 31\n",
      "@ k = 45\n",
      "time: 1min 25s (started: 2024-04-07 22:31:34 +05:30)\n"
     ]
    }
   ],
   "source": [
    "results = dict()\n",
    "for k in [7, 15, 23, 31,45]:\n",
    "    print(f\"@ k = {k}\")\n",
    "    labels, centroids = k_means_clustering(x_train10, k)\n",
    "    \n",
    "    results[k] = dict()\n",
    "    results[k]['labels'] = labels\n",
    "    results[k]['centroids'] = centroids\n",
    "    results[k]['y_pred'] = k_means_test(x_test, centroids)"
   ]
  },
  {
   "cell_type": "code",
   "execution_count": 42,
   "metadata": {},
   "outputs": [
    {
     "data": {
      "text/plain": [
       "{7: {'labels': array([0, 0, 0, ..., 0, 0, 0], dtype=int64),\n",
       "  'centroids': array([[-9.3013330e+02, -5.2178619e+02],\n",
       "         [ 6.9337370e+08, -2.1531884e+05],\n",
       "         [ 5.1323920e+06, -2.6792153e+03],\n",
       "         [-1.7745477e+02,  5.0085965e+06],\n",
       "         [ 2.2017508e+06, -1.7738759e+03],\n",
       "         [-7.2804974e+02,  1.7937111e+06],\n",
       "         [-9.7140088e+02,  6.1341625e+05]], dtype=float32),\n",
       "  'y_pred': array([0, 0, 0, ..., 0, 0, 0], dtype=int64)},\n",
       " 15: {'labels': array([0, 0, 0, ..., 0, 0, 0], dtype=int64),\n",
       "  'centroids': array([[-1.1916902e+03, -9.2278259e+02],\n",
       "         [ 6.9337370e+08, -2.1531884e+05],\n",
       "         [ 5.1323920e+06, -2.6792153e+03],\n",
       "         [-2.4291745e+02,  5.1492875e+06],\n",
       "         [ 2.2017508e+06, -1.7738759e+03],\n",
       "         [-8.6595563e+02,  1.5140224e+06],\n",
       "         [-9.2059064e+02,  5.5393825e+05],\n",
       "         [ 5.3974176e+04,  6.6989497e+03],\n",
       "         [-3.9707529e+02,  2.4649648e+06],\n",
       "         [ 3.4624658e+02,  3.8830670e+06],\n",
       "         [-1.5491558e+03,  1.0449436e+04],\n",
       "         [ 5.2102084e+05,  2.5720398e+04],\n",
       "         [-1.2796716e+03,  2.3797569e+05],\n",
       "         [-1.0279142e+03,  9.7311144e+05],\n",
       "         [-1.5409321e+03,  4.0477980e+04]], dtype=float32),\n",
       "  'y_pred': array([0, 0, 0, ..., 0, 0, 0], dtype=int64)},\n",
       " 23: {'labels': array([21,  0,  0, ...,  0,  0,  0], dtype=int64),\n",
       "  'centroids': array([[-1.7722440e+03, -9.2080933e+02],\n",
       "         [ 6.9337370e+08, -2.1531884e+05],\n",
       "         [ 5.1323920e+06, -2.6792153e+03],\n",
       "         [-2.4291745e+02,  5.1492875e+06],\n",
       "         [ 2.2017508e+06, -1.7738759e+03],\n",
       "         [-8.6595563e+02,  1.5140224e+06],\n",
       "         [-8.5224353e+02,  4.8208966e+05],\n",
       "         [ 5.2823719e+04,  6.8022974e+03],\n",
       "         [-3.9707529e+02,  2.4649648e+06],\n",
       "         [-1.5790446e+03,  2.4711662e+04],\n",
       "         [ 3.4624658e+02,  3.8830670e+06],\n",
       "         [ 5.2102084e+05,  2.5720398e+04],\n",
       "         [-1.2468296e+03,  1.8962461e+05],\n",
       "         [-9.9975043e+02,  7.0831806e+05],\n",
       "         [-1.5630544e+03,  1.0555392e+04],\n",
       "         [-1.5437423e+03,  4.6258395e+04],\n",
       "         [-1.0691613e+03,  1.0593664e+06],\n",
       "         [ 1.8671492e+05, -1.0863109e+03],\n",
       "         [-1.5328977e+03,  9.5919430e+04],\n",
       "         [-8.7630676e+02, -1.0800270e+03],\n",
       "         [-1.2954696e+03,  2.9341653e+05],\n",
       "         [-1.5478447e+03,  2.7697935e+03],\n",
       "         [ 9.3903652e+03, -7.8273761e+02]], dtype=float32),\n",
       "  'y_pred': array([0, 0, 0, ..., 0, 0, 0], dtype=int64)},\n",
       " 31: {'labels': array([26, 21, 21, ..., 21, 21, 21], dtype=int64),\n",
       "  'centroids': array([[-8.7632312e+02, -1.0800048e+03],\n",
       "         [ 6.9337370e+08, -2.1531884e+05],\n",
       "         [ 5.1323920e+06, -2.6792153e+03],\n",
       "         [-2.4291745e+02,  5.1492875e+06],\n",
       "         [ 2.1888605e+06, -1.7698955e+03],\n",
       "         [-1.1392192e+03,  1.0009469e+06],\n",
       "         [-7.0209906e+02,  1.7605035e+06],\n",
       "         [ 5.2823719e+04,  6.8022974e+03],\n",
       "         [-1.4977642e+03,  5.8182414e+04],\n",
       "         [ 3.4624658e+02,  3.8830670e+06],\n",
       "         [-1.0668717e+03,  3.5373888e+05],\n",
       "         [-4.1595502e+02,  2.5934610e+06],\n",
       "         [ 4.9352784e+05, -1.2461044e+03],\n",
       "         [-9.2057446e+02,  1.4318620e+06],\n",
       "         [-1.5682648e+03,  1.5114691e+04],\n",
       "         [-9.9460254e+02,  6.4869819e+05],\n",
       "         [ 1.8671492e+05, -1.0863109e+03],\n",
       "         [-1.5153446e+03,  1.1009357e+05],\n",
       "         [-1.5661011e+03,  7.2262349e+03],\n",
       "         [-1.2338180e+03,  1.7954617e+05],\n",
       "         [ 9.3903652e+03, -7.8273761e+02],\n",
       "         [-1.7799388e+03, -9.7627100e+02],\n",
       "         [-1.5821824e+03,  3.0285818e+04],\n",
       "         [ 2.4982230e+06, -1.8654205e+03],\n",
       "         [-7.9832404e+02,  4.8132403e+05],\n",
       "         [ 7.1347169e+05,  2.1448592e+05],\n",
       "         [-1.5515598e+03,  1.6808901e+03],\n",
       "         [-1.3740503e+03,  2.6243303e+05],\n",
       "         [-3.8448886e+02,  2.3793005e+06],\n",
       "         [-9.5573193e+02,  8.2216519e+05],\n",
       "         [-9.7575043e+02,  1.1372589e+06]], dtype=float32),\n",
       "  'y_pred': array([21, 21, 21, ..., 21, 21, 21], dtype=int64)},\n",
       " 45: {'labels': array([27, 41, 21, ..., 21, 21, 21], dtype=int64),\n",
       "  'centroids': array([[-1.8206240e+03, -1.0801841e+03],\n",
       "         [ 6.9337370e+08, -2.1531884e+05],\n",
       "         [ 5.1323920e+06, -2.6792153e+03],\n",
       "         [-2.4291745e+02,  5.1492875e+06],\n",
       "         [ 2.1888605e+06, -1.7698955e+03],\n",
       "         [-9.7575043e+02,  1.1372589e+06],\n",
       "         [-3.8569730e+02,  2.4573452e+06],\n",
       "         [-7.9832404e+02,  4.8132403e+05],\n",
       "         [ 5.2732914e+04,  7.0969243e+03],\n",
       "         [ 3.4624658e+02,  3.8830670e+06],\n",
       "         [-1.5898582e+03,  2.9701844e+04],\n",
       "         [-6.5255591e+02,  1.5692335e+06],\n",
       "         [-1.4050154e+03,  2.6597084e+05],\n",
       "         [ 4.9352784e+05, -1.2461044e+03],\n",
       "         [-1.5642882e+03,  7.9602505e+03],\n",
       "         [-9.6986700e+02,  7.1739638e+05],\n",
       "         [-1.4557406e+03,  6.3314723e+04],\n",
       "         [ 1.7208595e+05, -1.1467913e+03],\n",
       "         [-6.9073431e+02,  1.8856944e+06],\n",
       "         [-7.8598212e+02, -1.0805947e+03],\n",
       "         [-1.5106589e+03,  1.5224005e+05],\n",
       "         [-1.5534197e+03,  9.5172589e+02],\n",
       "         [ 4.1946270e+03, -1.0260085e+03],\n",
       "         [-9.7567615e+02,  1.3682692e+06],\n",
       "         [ 2.4982230e+06, -1.8654205e+03],\n",
       "         [-1.0298606e+03,  6.2637450e+05],\n",
       "         [-1.0668717e+03,  3.5373888e+05],\n",
       "         [-1.5675039e+03,  3.9530569e+03],\n",
       "         [-1.1392192e+03,  1.0009469e+06],\n",
       "         [-1.5849202e+03,  4.1927344e+04],\n",
       "         [ 7.1347169e+05,  2.1448592e+05],\n",
       "         [-4.2722913e+02,  2.6605115e+06],\n",
       "         [ 3.1860881e+04,  3.2999329e+01],\n",
       "         [-4.0105548e+02,  2.2922765e+06],\n",
       "         [ 8.9629617e+04, -1.2817276e+02],\n",
       "         [-1.5729874e+03,  2.0881010e+04],\n",
       "         [ 2.4888812e+05, -8.2927020e+02],\n",
       "         [ 1.1100334e+04, -5.7723676e+02],\n",
       "         [-1.5074371e+03,  1.0625903e+05],\n",
       "         [-7.0778137e+02,  1.6979080e+06],\n",
       "         [-9.9094153e+02,  2.0657245e+05],\n",
       "         [-1.3822289e+03, -9.3433221e+02],\n",
       "         [-1.5622258e+03,  1.3223846e+04],\n",
       "         [-8.9348773e+02,  8.4047869e+05],\n",
       "         [-9.1807788e+02,  1.4920589e+06]], dtype=float32),\n",
       "  'y_pred': array([0, 0, 0, ..., 0, 0, 0], dtype=int64)}}"
      ]
     },
     "execution_count": 42,
     "metadata": {},
     "output_type": "execute_result"
    },
    {
     "name": "stdout",
     "output_type": "stream",
     "text": [
      "time: 15 ms (started: 2024-04-07 22:32:59 +05:30)\n"
     ]
    }
   ],
   "source": [
    "results"
   ]
  },
  {
   "cell_type": "markdown",
   "metadata": {},
   "source": [
    "**K-Means Clustering Results Count**"
   ]
  },
  {
   "cell_type": "code",
   "execution_count": 43,
   "metadata": {},
   "outputs": [
    {
     "data": {
      "text/plain": [
       "array([[     0, 172811],\n",
       "       [     1,      1],\n",
       "       [     2,     59],\n",
       "       [     3,     16],\n",
       "       [     4,     24],\n",
       "       [     5,     12],\n",
       "       [     6,     13],\n",
       "       [     7,   2308],\n",
       "       [     8,      5],\n",
       "       [     9,   1835],\n",
       "       [    10,      2],\n",
       "       [    11,      8],\n",
       "       [    12,     35],\n",
       "       [    13,     13],\n",
       "       [    14,   6158],\n",
       "       [    15,    499],\n",
       "       [    16,      7],\n",
       "       [    17,     21],\n",
       "       [    18,     97],\n",
       "       [    19, 292056],\n",
       "       [    20,     34],\n",
       "       [    21,  16777],\n",
       "       [    22,   1230]], dtype=int64)"
      ]
     },
     "execution_count": 43,
     "metadata": {},
     "output_type": "execute_result"
    },
    {
     "name": "stdout",
     "output_type": "stream",
     "text": [
      "time: 16 ms (started: 2024-04-07 22:32:59 +05:30)\n"
     ]
    }
   ],
   "source": [
    "np_value_counts(results[23]['labels'])"
   ]
  },
  {
   "cell_type": "markdown",
   "metadata": {
    "id": "bEJ98v9YZ8p6"
   },
   "source": [
    "## 3. Evaluation\n",
    "\n",
    "We will evaluate models based on their ability to detect network anomalies accurately. You will be required to use the following metrics to evaluate the quality of their models:\n",
    "\n",
    "• Precision (is the ratio of correctly predicted positive observations to the total predicted positives. It measures the accuracy of the positive predictions.)\n",
    "\n",
    "• Recall (also known as sensitivity or true positive rate, is the ratio of correctly predicted positive observations to all actual positives. It measures the model's ability to find all positive instances. )\n",
    "\n",
    "• F1 score ( is the harmonic mean of precision and recall. It provides a balance between precision and recall.)\n",
    "\n",
    "• Conditional Entropy"
   ]
  },
  {
   "cell_type": "markdown",
   "metadata": {},
   "source": [
    "**Running K-Means on `x_train` for evaluation purposes**"
   ]
  },
  {
   "cell_type": "code",
   "execution_count": 44,
   "metadata": {},
   "outputs": [
    {
     "name": "stdout",
     "output_type": "stream",
     "text": [
      "@ k = 7\n"
     ]
    },
    {
     "name": "stdout",
     "output_type": "stream",
     "text": [
      "@ k = 15\n",
      "@ k = 23\n",
      "@ k = 31\n",
      "@ k = 45\n",
      "time: 13min 4s (started: 2024-04-07 22:32:59 +05:30)\n"
     ]
    }
   ],
   "source": [
    "km_results = dict()\n",
    "for k in [7, 15, 23, 31,45]:\n",
    "    print(f\"@ k = {k}\")\n",
    "    labels, centroids = k_means_clustering(x_train, k)\n",
    "    \n",
    "    km_results[k] = dict()\n",
    "    km_results[k]['labels'] = labels\n",
    "    km_results[k]['centroids'] = centroids\n",
    "    km_results[k]['y_pred'] = k_means_test(x_test, centroids)"
   ]
  },
  {
   "cell_type": "markdown",
   "metadata": {
    "id": "317-bSN_Z_8_"
   },
   "source": [
    "### Precision"
   ]
  },
  {
   "cell_type": "code",
   "execution_count": 66,
   "metadata": {},
   "outputs": [
    {
     "name": "stdout",
     "output_type": "stream",
     "text": [
      "time: 0 ns (started: 2024-04-07 22:52:56 +05:30)\n"
     ]
    }
   ],
   "source": [
    "def precision_per_cluster(y_true, y_pred):\n",
    "    cont_mat = contingency_matrix(y_true, y_pred).T\n",
    "    return np.max(cont_mat, axis=1) / np.sum(cont_mat, axis=1)"
   ]
  },
  {
   "cell_type": "code",
   "execution_count": 67,
   "metadata": {},
   "outputs": [
    {
     "name": "stdout",
     "output_type": "stream",
     "text": [
      "time: 0 ns (started: 2024-04-07 22:52:58 +05:30)\n"
     ]
    }
   ],
   "source": [
    "def overall_precision(y_true, y_pred):\n",
    "    cont_mat = contingency_matrix(y_true, y_pred).T\n",
    "    p_per_c = precision_per_cluster(y_true, y_pred)\n",
    "    return np.sum(np.multiply(np.sum(cont_mat, axis=1) / np.sum(cont_mat), p_per_c))"
   ]
  },
  {
   "cell_type": "markdown",
   "metadata": {},
   "source": [
    "**K-Means Clustering**"
   ]
  },
  {
   "cell_type": "code",
   "execution_count": 68,
   "metadata": {},
   "outputs": [
    {
     "name": "stdout",
     "output_type": "stream",
     "text": [
      "\n",
      "@ k = 7:\t0.5732233443729225\n",
      "\n",
      "@ k = 15:\t0.5733248054325963\n",
      "\n",
      "@ k = 23:\t0.5814394445895021\n",
      "\n",
      "@ k = 31:\t0.5961076107839428\n",
      "\n",
      "@ k = 45:\t0.6383954372328609\n",
      "time: 4.55 s (started: 2024-04-07 22:53:01 +05:30)\n"
     ]
    }
   ],
   "source": [
    "for k in [7, 15, 23, 31,45]:\n",
    "    print(f\"@ k = {k}:\\t{overall_precision(y_train, km_results[k]['labels'])}\")"
   ]
  },
  {
   "cell_type": "markdown",
   "metadata": {},
   "source": [
    "### Recall"
   ]
  },
  {
   "cell_type": "code",
   "execution_count": 48,
   "metadata": {},
   "outputs": [
    {
     "name": "stdout",
     "output_type": "stream",
     "text": [
      "time: 0 ns (started: 2024-04-07 22:46:10 +05:30)\n"
     ]
    }
   ],
   "source": [
    "def recall_per_cluster(y_true, y_pred):\n",
    "    cont_mat = contingency_matrix(y_true, y_pred).T\n",
    "    partition_fraction = np.sum(cont_mat[:, np.argmax(cont_mat, axis=1)], axis=0)\n",
    "    return np.max(cont_mat, axis=1) / partition_fraction"
   ]
  },
  {
   "cell_type": "code",
   "execution_count": 49,
   "metadata": {},
   "outputs": [
    {
     "name": "stdout",
     "output_type": "stream",
     "text": [
      "time: 0 ns (started: 2024-04-07 22:46:10 +05:30)\n"
     ]
    }
   ],
   "source": [
    "def overall_recall(y_true, y_pred):\n",
    "    cont_mat = contingency_matrix(y_true, y_pred).T\n",
    "    r_per_c = recall_per_cluster(y_true, y_pred)\n",
    "#     partition_fraction = np.sum(cont_mat[:, np.argmax(cont_mat, axis=1)], axis=0)\n",
    "#     return np.sum(np.multiply(partition_fraction / np.sum(cont_mat), r_per_c))\n",
    "    return np.sum(np.multiply(np.sum(cont_mat, axis=1) / np.sum(cont_mat), r_per_c))"
   ]
  },
  {
   "cell_type": "markdown",
   "metadata": {},
   "source": [
    "**K-Means Clustering**"
   ]
  },
  {
   "cell_type": "code",
   "execution_count": 50,
   "metadata": {},
   "outputs": [
    {
     "name": "stdout",
     "output_type": "stream",
     "text": [
      "@ k = 7:\t0.9999981629710629\n",
      "@ k = 15:\t0.9998920014497829\n",
      "@ k = 23:\t0.992100020253613\n",
      "@ k = 31:\t0.9795334719809443\n",
      "@ k = 45:\t0.9443793921073439\n",
      "time: 5.01 s (started: 2024-04-07 22:46:10 +05:30)\n"
     ]
    }
   ],
   "source": [
    "for k in [7, 15, 23, 31,45]:\n",
    "    print(f\"@ k = {k}:\\t{overall_recall(y_train, km_results[k]['labels'])}\")"
   ]
  },
  {
   "cell_type": "markdown",
   "metadata": {},
   "source": [
    "### F1 Score"
   ]
  },
  {
   "cell_type": "code",
   "execution_count": 51,
   "metadata": {},
   "outputs": [
    {
     "name": "stdout",
     "output_type": "stream",
     "text": [
      "time: 0 ns (started: 2024-04-07 22:46:15 +05:30)\n"
     ]
    }
   ],
   "source": [
    "def overall_f1_score(y_true, y_pred):\n",
    "    p_per_c = precision_per_cluster(y_true, y_pred)\n",
    "    r_per_c = recall_per_cluster(y_true, y_pred)\n",
    "    return np.mean(2 * np.multiply(p_per_c, r_per_c) / (p_per_c + r_per_c))"
   ]
  },
  {
   "cell_type": "markdown",
   "metadata": {},
   "source": [
    "**K-Means Clustering**"
   ]
  },
  {
   "cell_type": "code",
   "execution_count": 52,
   "metadata": {},
   "outputs": [
    {
     "name": "stdout",
     "output_type": "stream",
     "text": [
      "@ k = 7:\t0.10435034070252809\n",
      "@ k = 15:\t0.0559971983843178\n",
      "@ k = 23:\t0.06787116377239559\n",
      "@ k = 31:\t0.08170137813942757\n",
      "@ k = 45:\t0.06624648783267638\n",
      "time: 4.5 s (started: 2024-04-07 22:46:15 +05:30)\n"
     ]
    }
   ],
   "source": [
    "for k in [7, 15, 23, 31,45]:\n",
    "    print(f\"@ k = {k}:\\t{overall_f1_score(y_train, km_results[k]['labels'])}\")"
   ]
  },
  {
   "cell_type": "markdown",
   "metadata": {},
   "source": [
    "### Conditional Entropy"
   ]
  },
  {
   "cell_type": "code",
   "execution_count": 53,
   "metadata": {},
   "outputs": [
    {
     "name": "stdout",
     "output_type": "stream",
     "text": [
      "time: 0 ns (started: 2024-04-07 22:46:19 +05:30)\n"
     ]
    }
   ],
   "source": [
    "def entropy(x):\n",
    "    with np.errstate(all='ignore'):\n",
    "        return np.nan_to_num(-x * np.log(x))"
   ]
  },
  {
   "cell_type": "code",
   "execution_count": 54,
   "metadata": {},
   "outputs": [
    {
     "name": "stdout",
     "output_type": "stream",
     "text": [
      "time: 0 ns (started: 2024-04-07 22:46:19 +05:30)\n"
     ]
    }
   ],
   "source": [
    "def conditional_entropy(y_true, y_pred):\n",
    "    cont_mat = contingency_matrix(y_true, y_pred).T\n",
    "    n = np.sum(cont_mat)\n",
    "    p_ci = np.sum(cont_mat, axis=1) / n\n",
    "    p_ij = cont_mat / np.sum(cont_mat, axis=1)[:, np.newaxis]\n",
    "    H_T_Ci = np.sum(entropy(p_ij), axis=1)\n",
    "    return np.sum(np.multiply(p_ci, H_T_Ci))"
   ]
  },
  {
   "cell_type": "markdown",
   "metadata": {},
   "source": [
    "**K-Means Clustering**"
   ]
  },
  {
   "cell_type": "code",
   "execution_count": 55,
   "metadata": {},
   "outputs": [
    {
     "name": "stdout",
     "output_type": "stream",
     "text": [
      "@ k = 7:\t1.031\t(worst = 1.946)\n",
      "@ k = 15:\t1.031\t(worst = 2.708)\n",
      "@ k = 23:\t1.017\t(worst = 3.135)\n",
      "@ k = 31:\t0.990\t(worst = 3.434)\n",
      "@ k = 45:\t0.912\t(worst = 3.807)\n",
      "time: 2.31 s (started: 2024-04-07 22:46:19 +05:30)\n"
     ]
    }
   ],
   "source": [
    "for k in [7, 15, 23, 31,45]:\n",
    "    print(f\"@ k = {k}:\\t{conditional_entropy(y_train, km_results[k]['labels']):.3f}\\t(worst = {np.log(k):.3f})\")"
   ]
  },
  {
   "cell_type": "markdown",
   "metadata": {
    "id": "-_SCpBsOaIS_"
   },
   "source": [
    "## 4. DBSCAN\n"
   ]
  },
  {
   "cell_type": "markdown",
   "metadata": {},
   "source": [
    "### DBSCAN (Density-based spatial clustering of applications with noise)"
   ]
  },
  {
   "cell_type": "code",
   "execution_count": 56,
   "metadata": {},
   "outputs": [
    {
     "name": "stdout",
     "output_type": "stream",
     "text": [
      "time: 16 ms (started: 2024-04-07 22:46:22 +05:30)\n"
     ]
    }
   ],
   "source": [
    "def dbscan(X, epsilon, min_pts):\n",
    "    # Calculate pairwise distances between all samples\n",
    "    dists = cdist(X, X)\n",
    "\n",
    "    # Initialize labels and cluster ID\n",
    "    labels = np.full(X.shape[0], -1)\n",
    "    cluster_id = 0\n",
    "\n",
    "    # Loop over all samples\n",
    "    for i in range(X.shape[0]):\n",
    "        if labels[i] != -1:\n",
    "            # Sample already assigned to a cluster\n",
    "            continue\n",
    "\n",
    "        # Find all samples within epsilon distance from current sample\n",
    "        neighbors = np.where(dists[i] <= epsilon)[0]\n",
    "\n",
    "        if len(neighbors) < min_pts:\n",
    "            # Sample is noise\n",
    "            labels[i] = 0\n",
    "            continue\n",
    "\n",
    "        # Expand the cluster starting from the current sample\n",
    "        cluster_id += 1\n",
    "        labels[i] = cluster_id\n",
    "\n",
    "        # Loop over all neighbors\n",
    "        for j in neighbors:\n",
    "            if labels[j] == -1:\n",
    "                # Neighbor not yet assigned to a cluster\n",
    "                labels[j] = cluster_id\n",
    "\n",
    "                # Find all samples within epsilon distance from this neighbor\n",
    "                new_neighbors = np.where(dists[j] <= epsilon)[0]\n",
    "\n",
    "                if len(new_neighbors) >= min_pts:\n",
    "                    # Neighbor is a core point, expand the cluster from this point\n",
    "                    neighbors = np.concatenate([neighbors, new_neighbors])\n",
    "\n",
    "            elif labels[j] == 0:\n",
    "                # Neighbor previously identified as noise, add to current cluster\n",
    "                labels[j] = cluster_id\n",
    "\n",
    "    return labels"
   ]
  },
  {
   "cell_type": "code",
   "execution_count": 57,
   "metadata": {},
   "outputs": [
    {
     "name": "stdout",
     "output_type": "stream",
     "text": [
      "time: 15 ms (started: 2024-04-07 22:46:22 +05:30)\n"
     ]
    }
   ],
   "source": [
    "x_subset = x_train[:1000]\n",
    "dbscan_labels= dbscan( x_subset,1, 40)"
   ]
  },
  {
   "cell_type": "code",
   "execution_count": 58,
   "metadata": {},
   "outputs": [
    {
     "data": {
      "text/plain": [
       "1"
      ]
     },
     "execution_count": 58,
     "metadata": {},
     "output_type": "execute_result"
    },
    {
     "name": "stdout",
     "output_type": "stream",
     "text": [
      "time: 0 ns (started: 2024-04-07 22:46:22 +05:30)\n"
     ]
    }
   ],
   "source": [
    "num_clusters = len(np.unique(dbscan_labels))\n",
    "num_clusters"
   ]
  },
  {
   "cell_type": "markdown",
   "metadata": {},
   "source": [
    "**Precision**"
   ]
  },
  {
   "cell_type": "code",
   "execution_count": 59,
   "metadata": {},
   "outputs": [
    {
     "ename": "ValueError",
     "evalue": "row, column, and data array must all be the same length",
     "output_type": "error",
     "traceback": [
      "\u001b[1;31m---------------------------------------------------------------------------\u001b[0m",
      "\u001b[1;31mValueError\u001b[0m                                Traceback (most recent call last)",
      "Cell \u001b[1;32mIn[59], line 1\u001b[0m\n\u001b[1;32m----> 1\u001b[0m \u001b[43moverall_precision\u001b[49m\u001b[43m(\u001b[49m\u001b[43mx_subset\u001b[49m\u001b[43m,\u001b[49m\u001b[43m \u001b[49m\u001b[43mdbscan_labels\u001b[49m\u001b[43m)\u001b[49m\n",
      "Cell \u001b[1;32mIn[46], line 2\u001b[0m, in \u001b[0;36moverall_precision\u001b[1;34m(y_true, y_pred)\u001b[0m\n\u001b[0;32m      1\u001b[0m \u001b[38;5;28;01mdef\u001b[39;00m \u001b[38;5;21moverall_precision\u001b[39m(y_true, y_pred):\n\u001b[1;32m----> 2\u001b[0m     cont_mat \u001b[38;5;241m=\u001b[39m \u001b[43mcontingency_matrix\u001b[49m\u001b[43m(\u001b[49m\u001b[43my_true\u001b[49m\u001b[43m,\u001b[49m\u001b[43m \u001b[49m\u001b[43my_pred\u001b[49m\u001b[43m)\u001b[49m\u001b[38;5;241m.\u001b[39mT\n\u001b[0;32m      3\u001b[0m     p_per_c \u001b[38;5;241m=\u001b[39m precision_per_cluster(y_true, y_pred)\n\u001b[0;32m      4\u001b[0m     \u001b[38;5;28;01mreturn\u001b[39;00m np\u001b[38;5;241m.\u001b[39msum(np\u001b[38;5;241m.\u001b[39mmultiply(np\u001b[38;5;241m.\u001b[39msum(cont_mat, axis\u001b[38;5;241m=\u001b[39m\u001b[38;5;241m1\u001b[39m) \u001b[38;5;241m/\u001b[39m np\u001b[38;5;241m.\u001b[39msum(cont_mat), p_per_c))\n",
      "File \u001b[1;32mc:\\Users\\nc970\\AppData\\Local\\Programs\\Python\\Python312\\Lib\\site-packages\\sklearn\\utils\\_param_validation.py:213\u001b[0m, in \u001b[0;36mvalidate_params.<locals>.decorator.<locals>.wrapper\u001b[1;34m(*args, **kwargs)\u001b[0m\n\u001b[0;32m    207\u001b[0m \u001b[38;5;28;01mtry\u001b[39;00m:\n\u001b[0;32m    208\u001b[0m     \u001b[38;5;28;01mwith\u001b[39;00m config_context(\n\u001b[0;32m    209\u001b[0m         skip_parameter_validation\u001b[38;5;241m=\u001b[39m(\n\u001b[0;32m    210\u001b[0m             prefer_skip_nested_validation \u001b[38;5;129;01mor\u001b[39;00m global_skip_validation\n\u001b[0;32m    211\u001b[0m         )\n\u001b[0;32m    212\u001b[0m     ):\n\u001b[1;32m--> 213\u001b[0m         \u001b[38;5;28;01mreturn\u001b[39;00m \u001b[43mfunc\u001b[49m\u001b[43m(\u001b[49m\u001b[38;5;241;43m*\u001b[39;49m\u001b[43margs\u001b[49m\u001b[43m,\u001b[49m\u001b[43m \u001b[49m\u001b[38;5;241;43m*\u001b[39;49m\u001b[38;5;241;43m*\u001b[39;49m\u001b[43mkwargs\u001b[49m\u001b[43m)\u001b[49m\n\u001b[0;32m    214\u001b[0m \u001b[38;5;28;01mexcept\u001b[39;00m InvalidParameterError \u001b[38;5;28;01mas\u001b[39;00m e:\n\u001b[0;32m    215\u001b[0m     \u001b[38;5;66;03m# When the function is just a wrapper around an estimator, we allow\u001b[39;00m\n\u001b[0;32m    216\u001b[0m     \u001b[38;5;66;03m# the function to delegate validation to the estimator, but we replace\u001b[39;00m\n\u001b[0;32m    217\u001b[0m     \u001b[38;5;66;03m# the name of the estimator by the name of the function in the error\u001b[39;00m\n\u001b[0;32m    218\u001b[0m     \u001b[38;5;66;03m# message to avoid confusion.\u001b[39;00m\n\u001b[0;32m    219\u001b[0m     msg \u001b[38;5;241m=\u001b[39m re\u001b[38;5;241m.\u001b[39msub(\n\u001b[0;32m    220\u001b[0m         \u001b[38;5;124mr\u001b[39m\u001b[38;5;124m\"\u001b[39m\u001b[38;5;124mparameter of \u001b[39m\u001b[38;5;124m\\\u001b[39m\u001b[38;5;124mw+ must be\u001b[39m\u001b[38;5;124m\"\u001b[39m,\n\u001b[0;32m    221\u001b[0m         \u001b[38;5;124mf\u001b[39m\u001b[38;5;124m\"\u001b[39m\u001b[38;5;124mparameter of \u001b[39m\u001b[38;5;132;01m{\u001b[39;00mfunc\u001b[38;5;241m.\u001b[39m\u001b[38;5;18m__qualname__\u001b[39m\u001b[38;5;132;01m}\u001b[39;00m\u001b[38;5;124m must be\u001b[39m\u001b[38;5;124m\"\u001b[39m,\n\u001b[0;32m    222\u001b[0m         \u001b[38;5;28mstr\u001b[39m(e),\n\u001b[0;32m    223\u001b[0m     )\n",
      "File \u001b[1;32mc:\\Users\\nc970\\AppData\\Local\\Programs\\Python\\Python312\\Lib\\site-packages\\sklearn\\metrics\\cluster\\_supervised.py:164\u001b[0m, in \u001b[0;36mcontingency_matrix\u001b[1;34m(labels_true, labels_pred, eps, sparse, dtype)\u001b[0m\n\u001b[0;32m    160\u001b[0m n_clusters \u001b[38;5;241m=\u001b[39m clusters\u001b[38;5;241m.\u001b[39mshape[\u001b[38;5;241m0\u001b[39m]\n\u001b[0;32m    161\u001b[0m \u001b[38;5;66;03m# Using coo_matrix to accelerate simple histogram calculation,\u001b[39;00m\n\u001b[0;32m    162\u001b[0m \u001b[38;5;66;03m# i.e. bins are consecutive integers\u001b[39;00m\n\u001b[0;32m    163\u001b[0m \u001b[38;5;66;03m# Currently, coo_matrix is faster than histogram2d for simple cases\u001b[39;00m\n\u001b[1;32m--> 164\u001b[0m contingency \u001b[38;5;241m=\u001b[39m \u001b[43msp\u001b[49m\u001b[38;5;241;43m.\u001b[39;49m\u001b[43mcoo_matrix\u001b[49m\u001b[43m(\u001b[49m\n\u001b[0;32m    165\u001b[0m \u001b[43m    \u001b[49m\u001b[43m(\u001b[49m\u001b[43mnp\u001b[49m\u001b[38;5;241;43m.\u001b[39;49m\u001b[43mones\u001b[49m\u001b[43m(\u001b[49m\u001b[43mclass_idx\u001b[49m\u001b[38;5;241;43m.\u001b[39;49m\u001b[43mshape\u001b[49m\u001b[43m[\u001b[49m\u001b[38;5;241;43m0\u001b[39;49m\u001b[43m]\u001b[49m\u001b[43m)\u001b[49m\u001b[43m,\u001b[49m\u001b[43m \u001b[49m\u001b[43m(\u001b[49m\u001b[43mclass_idx\u001b[49m\u001b[43m,\u001b[49m\u001b[43m \u001b[49m\u001b[43mcluster_idx\u001b[49m\u001b[43m)\u001b[49m\u001b[43m)\u001b[49m\u001b[43m,\u001b[49m\n\u001b[0;32m    166\u001b[0m \u001b[43m    \u001b[49m\u001b[43mshape\u001b[49m\u001b[38;5;241;43m=\u001b[39;49m\u001b[43m(\u001b[49m\u001b[43mn_classes\u001b[49m\u001b[43m,\u001b[49m\u001b[43m \u001b[49m\u001b[43mn_clusters\u001b[49m\u001b[43m)\u001b[49m\u001b[43m,\u001b[49m\n\u001b[0;32m    167\u001b[0m \u001b[43m    \u001b[49m\u001b[43mdtype\u001b[49m\u001b[38;5;241;43m=\u001b[39;49m\u001b[43mdtype\u001b[49m\u001b[43m,\u001b[49m\n\u001b[0;32m    168\u001b[0m \u001b[43m\u001b[49m\u001b[43m)\u001b[49m\n\u001b[0;32m    169\u001b[0m \u001b[38;5;28;01mif\u001b[39;00m sparse:\n\u001b[0;32m    170\u001b[0m     contingency \u001b[38;5;241m=\u001b[39m contingency\u001b[38;5;241m.\u001b[39mtocsr()\n",
      "File \u001b[1;32mc:\\Users\\nc970\\AppData\\Local\\Programs\\Python\\Python312\\Lib\\site-packages\\scipy\\sparse\\_coo.py:99\u001b[0m, in \u001b[0;36m_coo_base.__init__\u001b[1;34m(self, arg1, shape, dtype, copy)\u001b[0m\n\u001b[0;32m     96\u001b[0m \u001b[38;5;28;01mif\u001b[39;00m dtype \u001b[38;5;129;01mis\u001b[39;00m \u001b[38;5;129;01mnot\u001b[39;00m \u001b[38;5;28;01mNone\u001b[39;00m:\n\u001b[0;32m     97\u001b[0m     \u001b[38;5;28mself\u001b[39m\u001b[38;5;241m.\u001b[39mdata \u001b[38;5;241m=\u001b[39m \u001b[38;5;28mself\u001b[39m\u001b[38;5;241m.\u001b[39mdata\u001b[38;5;241m.\u001b[39mastype(dtype, copy\u001b[38;5;241m=\u001b[39m\u001b[38;5;28;01mFalse\u001b[39;00m)\n\u001b[1;32m---> 99\u001b[0m \u001b[38;5;28;43mself\u001b[39;49m\u001b[38;5;241;43m.\u001b[39;49m\u001b[43m_check\u001b[49m\u001b[43m(\u001b[49m\u001b[43m)\u001b[49m\n",
      "File \u001b[1;32mc:\\Users\\nc970\\AppData\\Local\\Programs\\Python\\Python312\\Lib\\site-packages\\scipy\\sparse\\_coo.py:186\u001b[0m, in \u001b[0;36m_coo_base._check\u001b[1;34m(self)\u001b[0m\n\u001b[0;32m    183\u001b[0m \u001b[38;5;28mself\u001b[39m\u001b[38;5;241m.\u001b[39mcol \u001b[38;5;241m=\u001b[39m np\u001b[38;5;241m.\u001b[39masarray(\u001b[38;5;28mself\u001b[39m\u001b[38;5;241m.\u001b[39mcol, dtype\u001b[38;5;241m=\u001b[39midx_dtype)\n\u001b[0;32m    184\u001b[0m \u001b[38;5;28mself\u001b[39m\u001b[38;5;241m.\u001b[39mdata \u001b[38;5;241m=\u001b[39m to_native(\u001b[38;5;28mself\u001b[39m\u001b[38;5;241m.\u001b[39mdata)\n\u001b[1;32m--> 186\u001b[0m \u001b[38;5;28;01mif\u001b[39;00m \u001b[38;5;28;43mself\u001b[39;49m\u001b[38;5;241;43m.\u001b[39;49m\u001b[43mnnz\u001b[49m \u001b[38;5;241m>\u001b[39m \u001b[38;5;241m0\u001b[39m:\n\u001b[0;32m    187\u001b[0m     \u001b[38;5;28;01mif\u001b[39;00m \u001b[38;5;28mself\u001b[39m\u001b[38;5;241m.\u001b[39mrow\u001b[38;5;241m.\u001b[39mmax() \u001b[38;5;241m>\u001b[39m\u001b[38;5;241m=\u001b[39m \u001b[38;5;28mself\u001b[39m\u001b[38;5;241m.\u001b[39mshape[\u001b[38;5;241m0\u001b[39m]:\n\u001b[0;32m    188\u001b[0m         \u001b[38;5;28;01mraise\u001b[39;00m \u001b[38;5;167;01mValueError\u001b[39;00m(\u001b[38;5;124m'\u001b[39m\u001b[38;5;124mrow index exceeds matrix dimensions\u001b[39m\u001b[38;5;124m'\u001b[39m)\n",
      "File \u001b[1;32mc:\\Users\\nc970\\AppData\\Local\\Programs\\Python\\Python312\\Lib\\site-packages\\scipy\\sparse\\_base.py:293\u001b[0m, in \u001b[0;36m_spbase.nnz\u001b[1;34m(self)\u001b[0m\n\u001b[0;32m    285\u001b[0m \u001b[38;5;129m@property\u001b[39m\n\u001b[0;32m    286\u001b[0m \u001b[38;5;28;01mdef\u001b[39;00m \u001b[38;5;21mnnz\u001b[39m(\u001b[38;5;28mself\u001b[39m) \u001b[38;5;241m-\u001b[39m\u001b[38;5;241m>\u001b[39m \u001b[38;5;28mint\u001b[39m:\n\u001b[0;32m    287\u001b[0m \u001b[38;5;250m    \u001b[39m\u001b[38;5;124;03m\"\"\"Number of stored values, including explicit zeros.\u001b[39;00m\n\u001b[0;32m    288\u001b[0m \n\u001b[0;32m    289\u001b[0m \u001b[38;5;124;03m    See also\u001b[39;00m\n\u001b[0;32m    290\u001b[0m \u001b[38;5;124;03m    --------\u001b[39;00m\n\u001b[0;32m    291\u001b[0m \u001b[38;5;124;03m    count_nonzero : Number of non-zero entries\u001b[39;00m\n\u001b[0;32m    292\u001b[0m \u001b[38;5;124;03m    \"\"\"\u001b[39;00m\n\u001b[1;32m--> 293\u001b[0m     \u001b[38;5;28;01mreturn\u001b[39;00m \u001b[38;5;28;43mself\u001b[39;49m\u001b[38;5;241;43m.\u001b[39;49m\u001b[43m_getnnz\u001b[49m\u001b[43m(\u001b[49m\u001b[43m)\u001b[49m\n",
      "File \u001b[1;32mc:\\Users\\nc970\\AppData\\Local\\Programs\\Python\\Python312\\Lib\\site-packages\\scipy\\sparse\\_coo.py:148\u001b[0m, in \u001b[0;36m_coo_base._getnnz\u001b[1;34m(self, axis)\u001b[0m\n\u001b[0;32m    146\u001b[0m nnz \u001b[38;5;241m=\u001b[39m \u001b[38;5;28mlen\u001b[39m(\u001b[38;5;28mself\u001b[39m\u001b[38;5;241m.\u001b[39mdata)\n\u001b[0;32m    147\u001b[0m \u001b[38;5;28;01mif\u001b[39;00m nnz \u001b[38;5;241m!=\u001b[39m \u001b[38;5;28mlen\u001b[39m(\u001b[38;5;28mself\u001b[39m\u001b[38;5;241m.\u001b[39mrow) \u001b[38;5;129;01mor\u001b[39;00m nnz \u001b[38;5;241m!=\u001b[39m \u001b[38;5;28mlen\u001b[39m(\u001b[38;5;28mself\u001b[39m\u001b[38;5;241m.\u001b[39mcol):\n\u001b[1;32m--> 148\u001b[0m     \u001b[38;5;28;01mraise\u001b[39;00m \u001b[38;5;167;01mValueError\u001b[39;00m(\u001b[38;5;124m'\u001b[39m\u001b[38;5;124mrow, column, and data array must all be the \u001b[39m\u001b[38;5;124m'\u001b[39m\n\u001b[0;32m    149\u001b[0m                      \u001b[38;5;124m'\u001b[39m\u001b[38;5;124msame length\u001b[39m\u001b[38;5;124m'\u001b[39m)\n\u001b[0;32m    151\u001b[0m \u001b[38;5;28;01mif\u001b[39;00m \u001b[38;5;28mself\u001b[39m\u001b[38;5;241m.\u001b[39mdata\u001b[38;5;241m.\u001b[39mndim \u001b[38;5;241m!=\u001b[39m \u001b[38;5;241m1\u001b[39m \u001b[38;5;129;01mor\u001b[39;00m \u001b[38;5;28mself\u001b[39m\u001b[38;5;241m.\u001b[39mrow\u001b[38;5;241m.\u001b[39mndim \u001b[38;5;241m!=\u001b[39m \u001b[38;5;241m1\u001b[39m \u001b[38;5;129;01mor\u001b[39;00m \\\n\u001b[0;32m    152\u001b[0m         \u001b[38;5;28mself\u001b[39m\u001b[38;5;241m.\u001b[39mcol\u001b[38;5;241m.\u001b[39mndim \u001b[38;5;241m!=\u001b[39m \u001b[38;5;241m1\u001b[39m:\n\u001b[0;32m    153\u001b[0m     \u001b[38;5;28;01mraise\u001b[39;00m \u001b[38;5;167;01mValueError\u001b[39;00m(\u001b[38;5;124m'\u001b[39m\u001b[38;5;124mrow, column, and data arrays must be 1-D\u001b[39m\u001b[38;5;124m'\u001b[39m)\n",
      "\u001b[1;31mValueError\u001b[0m: row, column, and data array must all be the same length"
     ]
    },
    {
     "name": "stdout",
     "output_type": "stream",
     "text": [
      "time: 1.61 s (started: 2024-04-07 22:46:22 +05:30)\n"
     ]
    }
   ],
   "source": [
    "overall_precision(x_subset, dbscan_labels)"
   ]
  },
  {
   "cell_type": "markdown",
   "metadata": {},
   "source": [
    "**Recall**"
   ]
  },
  {
   "cell_type": "code",
   "execution_count": 71,
   "metadata": {},
   "outputs": [
    {
     "ename": "ValueError",
     "evalue": "row, column, and data array must all be the same length",
     "output_type": "error",
     "traceback": [
      "\u001b[1;31m---------------------------------------------------------------------------\u001b[0m",
      "\u001b[1;31mValueError\u001b[0m                                Traceback (most recent call last)",
      "Cell \u001b[1;32mIn[71], line 1\u001b[0m\n\u001b[1;32m----> 1\u001b[0m \u001b[43moverall_recall\u001b[49m\u001b[43m(\u001b[49m\u001b[43my_train\u001b[49m\u001b[43m,\u001b[49m\u001b[43m \u001b[49m\u001b[43mdbscan_labels\u001b[49m\u001b[43m)\u001b[49m\n",
      "Cell \u001b[1;32mIn[49], line 2\u001b[0m, in \u001b[0;36moverall_recall\u001b[1;34m(y_true, y_pred)\u001b[0m\n\u001b[0;32m      1\u001b[0m \u001b[38;5;28;01mdef\u001b[39;00m \u001b[38;5;21moverall_recall\u001b[39m(y_true, y_pred):\n\u001b[1;32m----> 2\u001b[0m     cont_mat \u001b[38;5;241m=\u001b[39m \u001b[43mcontingency_matrix\u001b[49m\u001b[43m(\u001b[49m\u001b[43my_true\u001b[49m\u001b[43m,\u001b[49m\u001b[43m \u001b[49m\u001b[43my_pred\u001b[49m\u001b[43m)\u001b[49m\u001b[38;5;241m.\u001b[39mT\n\u001b[0;32m      3\u001b[0m     r_per_c \u001b[38;5;241m=\u001b[39m recall_per_cluster(y_true, y_pred)\n\u001b[0;32m      4\u001b[0m \u001b[38;5;66;03m#     partition_fraction = np.sum(cont_mat[:, np.argmax(cont_mat, axis=1)], axis=0)\u001b[39;00m\n\u001b[0;32m      5\u001b[0m \u001b[38;5;66;03m#     return np.sum(np.multiply(partition_fraction / np.sum(cont_mat), r_per_c))\u001b[39;00m\n",
      "File \u001b[1;32mc:\\Users\\nc970\\AppData\\Local\\Programs\\Python\\Python312\\Lib\\site-packages\\sklearn\\utils\\_param_validation.py:213\u001b[0m, in \u001b[0;36mvalidate_params.<locals>.decorator.<locals>.wrapper\u001b[1;34m(*args, **kwargs)\u001b[0m\n\u001b[0;32m    207\u001b[0m \u001b[38;5;28;01mtry\u001b[39;00m:\n\u001b[0;32m    208\u001b[0m     \u001b[38;5;28;01mwith\u001b[39;00m config_context(\n\u001b[0;32m    209\u001b[0m         skip_parameter_validation\u001b[38;5;241m=\u001b[39m(\n\u001b[0;32m    210\u001b[0m             prefer_skip_nested_validation \u001b[38;5;129;01mor\u001b[39;00m global_skip_validation\n\u001b[0;32m    211\u001b[0m         )\n\u001b[0;32m    212\u001b[0m     ):\n\u001b[1;32m--> 213\u001b[0m         \u001b[38;5;28;01mreturn\u001b[39;00m \u001b[43mfunc\u001b[49m\u001b[43m(\u001b[49m\u001b[38;5;241;43m*\u001b[39;49m\u001b[43margs\u001b[49m\u001b[43m,\u001b[49m\u001b[43m \u001b[49m\u001b[38;5;241;43m*\u001b[39;49m\u001b[38;5;241;43m*\u001b[39;49m\u001b[43mkwargs\u001b[49m\u001b[43m)\u001b[49m\n\u001b[0;32m    214\u001b[0m \u001b[38;5;28;01mexcept\u001b[39;00m InvalidParameterError \u001b[38;5;28;01mas\u001b[39;00m e:\n\u001b[0;32m    215\u001b[0m     \u001b[38;5;66;03m# When the function is just a wrapper around an estimator, we allow\u001b[39;00m\n\u001b[0;32m    216\u001b[0m     \u001b[38;5;66;03m# the function to delegate validation to the estimator, but we replace\u001b[39;00m\n\u001b[0;32m    217\u001b[0m     \u001b[38;5;66;03m# the name of the estimator by the name of the function in the error\u001b[39;00m\n\u001b[0;32m    218\u001b[0m     \u001b[38;5;66;03m# message to avoid confusion.\u001b[39;00m\n\u001b[0;32m    219\u001b[0m     msg \u001b[38;5;241m=\u001b[39m re\u001b[38;5;241m.\u001b[39msub(\n\u001b[0;32m    220\u001b[0m         \u001b[38;5;124mr\u001b[39m\u001b[38;5;124m\"\u001b[39m\u001b[38;5;124mparameter of \u001b[39m\u001b[38;5;124m\\\u001b[39m\u001b[38;5;124mw+ must be\u001b[39m\u001b[38;5;124m\"\u001b[39m,\n\u001b[0;32m    221\u001b[0m         \u001b[38;5;124mf\u001b[39m\u001b[38;5;124m\"\u001b[39m\u001b[38;5;124mparameter of \u001b[39m\u001b[38;5;132;01m{\u001b[39;00mfunc\u001b[38;5;241m.\u001b[39m\u001b[38;5;18m__qualname__\u001b[39m\u001b[38;5;132;01m}\u001b[39;00m\u001b[38;5;124m must be\u001b[39m\u001b[38;5;124m\"\u001b[39m,\n\u001b[0;32m    222\u001b[0m         \u001b[38;5;28mstr\u001b[39m(e),\n\u001b[0;32m    223\u001b[0m     )\n",
      "File \u001b[1;32mc:\\Users\\nc970\\AppData\\Local\\Programs\\Python\\Python312\\Lib\\site-packages\\sklearn\\metrics\\cluster\\_supervised.py:164\u001b[0m, in \u001b[0;36mcontingency_matrix\u001b[1;34m(labels_true, labels_pred, eps, sparse, dtype)\u001b[0m\n\u001b[0;32m    160\u001b[0m n_clusters \u001b[38;5;241m=\u001b[39m clusters\u001b[38;5;241m.\u001b[39mshape[\u001b[38;5;241m0\u001b[39m]\n\u001b[0;32m    161\u001b[0m \u001b[38;5;66;03m# Using coo_matrix to accelerate simple histogram calculation,\u001b[39;00m\n\u001b[0;32m    162\u001b[0m \u001b[38;5;66;03m# i.e. bins are consecutive integers\u001b[39;00m\n\u001b[0;32m    163\u001b[0m \u001b[38;5;66;03m# Currently, coo_matrix is faster than histogram2d for simple cases\u001b[39;00m\n\u001b[1;32m--> 164\u001b[0m contingency \u001b[38;5;241m=\u001b[39m \u001b[43msp\u001b[49m\u001b[38;5;241;43m.\u001b[39;49m\u001b[43mcoo_matrix\u001b[49m\u001b[43m(\u001b[49m\n\u001b[0;32m    165\u001b[0m \u001b[43m    \u001b[49m\u001b[43m(\u001b[49m\u001b[43mnp\u001b[49m\u001b[38;5;241;43m.\u001b[39;49m\u001b[43mones\u001b[49m\u001b[43m(\u001b[49m\u001b[43mclass_idx\u001b[49m\u001b[38;5;241;43m.\u001b[39;49m\u001b[43mshape\u001b[49m\u001b[43m[\u001b[49m\u001b[38;5;241;43m0\u001b[39;49m\u001b[43m]\u001b[49m\u001b[43m)\u001b[49m\u001b[43m,\u001b[49m\u001b[43m \u001b[49m\u001b[43m(\u001b[49m\u001b[43mclass_idx\u001b[49m\u001b[43m,\u001b[49m\u001b[43m \u001b[49m\u001b[43mcluster_idx\u001b[49m\u001b[43m)\u001b[49m\u001b[43m)\u001b[49m\u001b[43m,\u001b[49m\n\u001b[0;32m    166\u001b[0m \u001b[43m    \u001b[49m\u001b[43mshape\u001b[49m\u001b[38;5;241;43m=\u001b[39;49m\u001b[43m(\u001b[49m\u001b[43mn_classes\u001b[49m\u001b[43m,\u001b[49m\u001b[43m \u001b[49m\u001b[43mn_clusters\u001b[49m\u001b[43m)\u001b[49m\u001b[43m,\u001b[49m\n\u001b[0;32m    167\u001b[0m \u001b[43m    \u001b[49m\u001b[43mdtype\u001b[49m\u001b[38;5;241;43m=\u001b[39;49m\u001b[43mdtype\u001b[49m\u001b[43m,\u001b[49m\n\u001b[0;32m    168\u001b[0m \u001b[43m\u001b[49m\u001b[43m)\u001b[49m\n\u001b[0;32m    169\u001b[0m \u001b[38;5;28;01mif\u001b[39;00m sparse:\n\u001b[0;32m    170\u001b[0m     contingency \u001b[38;5;241m=\u001b[39m contingency\u001b[38;5;241m.\u001b[39mtocsr()\n",
      "File \u001b[1;32mc:\\Users\\nc970\\AppData\\Local\\Programs\\Python\\Python312\\Lib\\site-packages\\scipy\\sparse\\_coo.py:99\u001b[0m, in \u001b[0;36m_coo_base.__init__\u001b[1;34m(self, arg1, shape, dtype, copy)\u001b[0m\n\u001b[0;32m     96\u001b[0m \u001b[38;5;28;01mif\u001b[39;00m dtype \u001b[38;5;129;01mis\u001b[39;00m \u001b[38;5;129;01mnot\u001b[39;00m \u001b[38;5;28;01mNone\u001b[39;00m:\n\u001b[0;32m     97\u001b[0m     \u001b[38;5;28mself\u001b[39m\u001b[38;5;241m.\u001b[39mdata \u001b[38;5;241m=\u001b[39m \u001b[38;5;28mself\u001b[39m\u001b[38;5;241m.\u001b[39mdata\u001b[38;5;241m.\u001b[39mastype(dtype, copy\u001b[38;5;241m=\u001b[39m\u001b[38;5;28;01mFalse\u001b[39;00m)\n\u001b[1;32m---> 99\u001b[0m \u001b[38;5;28;43mself\u001b[39;49m\u001b[38;5;241;43m.\u001b[39;49m\u001b[43m_check\u001b[49m\u001b[43m(\u001b[49m\u001b[43m)\u001b[49m\n",
      "File \u001b[1;32mc:\\Users\\nc970\\AppData\\Local\\Programs\\Python\\Python312\\Lib\\site-packages\\scipy\\sparse\\_coo.py:186\u001b[0m, in \u001b[0;36m_coo_base._check\u001b[1;34m(self)\u001b[0m\n\u001b[0;32m    183\u001b[0m \u001b[38;5;28mself\u001b[39m\u001b[38;5;241m.\u001b[39mcol \u001b[38;5;241m=\u001b[39m np\u001b[38;5;241m.\u001b[39masarray(\u001b[38;5;28mself\u001b[39m\u001b[38;5;241m.\u001b[39mcol, dtype\u001b[38;5;241m=\u001b[39midx_dtype)\n\u001b[0;32m    184\u001b[0m \u001b[38;5;28mself\u001b[39m\u001b[38;5;241m.\u001b[39mdata \u001b[38;5;241m=\u001b[39m to_native(\u001b[38;5;28mself\u001b[39m\u001b[38;5;241m.\u001b[39mdata)\n\u001b[1;32m--> 186\u001b[0m \u001b[38;5;28;01mif\u001b[39;00m \u001b[38;5;28;43mself\u001b[39;49m\u001b[38;5;241;43m.\u001b[39;49m\u001b[43mnnz\u001b[49m \u001b[38;5;241m>\u001b[39m \u001b[38;5;241m0\u001b[39m:\n\u001b[0;32m    187\u001b[0m     \u001b[38;5;28;01mif\u001b[39;00m \u001b[38;5;28mself\u001b[39m\u001b[38;5;241m.\u001b[39mrow\u001b[38;5;241m.\u001b[39mmax() \u001b[38;5;241m>\u001b[39m\u001b[38;5;241m=\u001b[39m \u001b[38;5;28mself\u001b[39m\u001b[38;5;241m.\u001b[39mshape[\u001b[38;5;241m0\u001b[39m]:\n\u001b[0;32m    188\u001b[0m         \u001b[38;5;28;01mraise\u001b[39;00m \u001b[38;5;167;01mValueError\u001b[39;00m(\u001b[38;5;124m'\u001b[39m\u001b[38;5;124mrow index exceeds matrix dimensions\u001b[39m\u001b[38;5;124m'\u001b[39m)\n",
      "File \u001b[1;32mc:\\Users\\nc970\\AppData\\Local\\Programs\\Python\\Python312\\Lib\\site-packages\\scipy\\sparse\\_base.py:293\u001b[0m, in \u001b[0;36m_spbase.nnz\u001b[1;34m(self)\u001b[0m\n\u001b[0;32m    285\u001b[0m \u001b[38;5;129m@property\u001b[39m\n\u001b[0;32m    286\u001b[0m \u001b[38;5;28;01mdef\u001b[39;00m \u001b[38;5;21mnnz\u001b[39m(\u001b[38;5;28mself\u001b[39m) \u001b[38;5;241m-\u001b[39m\u001b[38;5;241m>\u001b[39m \u001b[38;5;28mint\u001b[39m:\n\u001b[0;32m    287\u001b[0m \u001b[38;5;250m    \u001b[39m\u001b[38;5;124;03m\"\"\"Number of stored values, including explicit zeros.\u001b[39;00m\n\u001b[0;32m    288\u001b[0m \n\u001b[0;32m    289\u001b[0m \u001b[38;5;124;03m    See also\u001b[39;00m\n\u001b[0;32m    290\u001b[0m \u001b[38;5;124;03m    --------\u001b[39;00m\n\u001b[0;32m    291\u001b[0m \u001b[38;5;124;03m    count_nonzero : Number of non-zero entries\u001b[39;00m\n\u001b[0;32m    292\u001b[0m \u001b[38;5;124;03m    \"\"\"\u001b[39;00m\n\u001b[1;32m--> 293\u001b[0m     \u001b[38;5;28;01mreturn\u001b[39;00m \u001b[38;5;28;43mself\u001b[39;49m\u001b[38;5;241;43m.\u001b[39;49m\u001b[43m_getnnz\u001b[49m\u001b[43m(\u001b[49m\u001b[43m)\u001b[49m\n",
      "File \u001b[1;32mc:\\Users\\nc970\\AppData\\Local\\Programs\\Python\\Python312\\Lib\\site-packages\\scipy\\sparse\\_coo.py:148\u001b[0m, in \u001b[0;36m_coo_base._getnnz\u001b[1;34m(self, axis)\u001b[0m\n\u001b[0;32m    146\u001b[0m nnz \u001b[38;5;241m=\u001b[39m \u001b[38;5;28mlen\u001b[39m(\u001b[38;5;28mself\u001b[39m\u001b[38;5;241m.\u001b[39mdata)\n\u001b[0;32m    147\u001b[0m \u001b[38;5;28;01mif\u001b[39;00m nnz \u001b[38;5;241m!=\u001b[39m \u001b[38;5;28mlen\u001b[39m(\u001b[38;5;28mself\u001b[39m\u001b[38;5;241m.\u001b[39mrow) \u001b[38;5;129;01mor\u001b[39;00m nnz \u001b[38;5;241m!=\u001b[39m \u001b[38;5;28mlen\u001b[39m(\u001b[38;5;28mself\u001b[39m\u001b[38;5;241m.\u001b[39mcol):\n\u001b[1;32m--> 148\u001b[0m     \u001b[38;5;28;01mraise\u001b[39;00m \u001b[38;5;167;01mValueError\u001b[39;00m(\u001b[38;5;124m'\u001b[39m\u001b[38;5;124mrow, column, and data array must all be the \u001b[39m\u001b[38;5;124m'\u001b[39m\n\u001b[0;32m    149\u001b[0m                      \u001b[38;5;124m'\u001b[39m\u001b[38;5;124msame length\u001b[39m\u001b[38;5;124m'\u001b[39m)\n\u001b[0;32m    151\u001b[0m \u001b[38;5;28;01mif\u001b[39;00m \u001b[38;5;28mself\u001b[39m\u001b[38;5;241m.\u001b[39mdata\u001b[38;5;241m.\u001b[39mndim \u001b[38;5;241m!=\u001b[39m \u001b[38;5;241m1\u001b[39m \u001b[38;5;129;01mor\u001b[39;00m \u001b[38;5;28mself\u001b[39m\u001b[38;5;241m.\u001b[39mrow\u001b[38;5;241m.\u001b[39mndim \u001b[38;5;241m!=\u001b[39m \u001b[38;5;241m1\u001b[39m \u001b[38;5;129;01mor\u001b[39;00m \\\n\u001b[0;32m    152\u001b[0m         \u001b[38;5;28mself\u001b[39m\u001b[38;5;241m.\u001b[39mcol\u001b[38;5;241m.\u001b[39mndim \u001b[38;5;241m!=\u001b[39m \u001b[38;5;241m1\u001b[39m:\n\u001b[0;32m    153\u001b[0m     \u001b[38;5;28;01mraise\u001b[39;00m \u001b[38;5;167;01mValueError\u001b[39;00m(\u001b[38;5;124m'\u001b[39m\u001b[38;5;124mrow, column, and data arrays must be 1-D\u001b[39m\u001b[38;5;124m'\u001b[39m)\n",
      "\u001b[1;31mValueError\u001b[0m: row, column, and data array must all be the same length"
     ]
    },
    {
     "name": "stdout",
     "output_type": "stream",
     "text": [
      "time: 578 ms (started: 2024-04-08 00:10:22 +05:30)\n"
     ]
    }
   ],
   "source": [
    "overall_recall(y_train, dbscan_labels)"
   ]
  },
  {
   "cell_type": "markdown",
   "metadata": {},
   "source": [
    "**F1 Score**"
   ]
  },
  {
   "cell_type": "code",
   "execution_count": null,
   "metadata": {},
   "outputs": [
    {
     "ename": "NameError",
     "evalue": "name 'overall_f1_score' is not defined",
     "output_type": "error",
     "traceback": [
      "\u001b[1;31m---------------------------------------------------------------------------\u001b[0m",
      "\u001b[1;31mNameError\u001b[0m                                 Traceback (most recent call last)",
      "Cell \u001b[1;32mIn[1], line 1\u001b[0m\n\u001b[1;32m----> 1\u001b[0m \u001b[43moverall_f1_score\u001b[49m(y_train, dbscan_labels)\n",
      "\u001b[1;31mNameError\u001b[0m: name 'overall_f1_score' is not defined"
     ]
    }
   ],
   "source": [
    "overall_f1_score(y_train, dbscan_labels)"
   ]
  },
  {
   "cell_type": "markdown",
   "metadata": {},
   "source": [
    "**Conditional Entropy**"
   ]
  },
  {
   "cell_type": "code",
   "execution_count": 72,
   "metadata": {},
   "outputs": [
    {
     "ename": "ValueError",
     "evalue": "row, column, and data array must all be the same length",
     "output_type": "error",
     "traceback": [
      "\u001b[1;31m---------------------------------------------------------------------------\u001b[0m",
      "\u001b[1;31mValueError\u001b[0m                                Traceback (most recent call last)",
      "Cell \u001b[1;32mIn[72], line 1\u001b[0m\n\u001b[1;32m----> 1\u001b[0m \u001b[38;5;28mprint\u001b[39m(\u001b[38;5;124mf\u001b[39m\u001b[38;5;124m\"\u001b[39m\u001b[38;5;132;01m{\u001b[39;00m\u001b[43mconditional_entropy\u001b[49m\u001b[43m(\u001b[49m\u001b[43my_train\u001b[49m\u001b[43m,\u001b[49m\u001b[38;5;250;43m \u001b[39;49m\u001b[43mdbscan_labels\u001b[49m\u001b[43m)\u001b[49m\u001b[38;5;132;01m:\u001b[39;00m\u001b[38;5;124m.3f\u001b[39m\u001b[38;5;132;01m}\u001b[39;00m\u001b[38;5;130;01m\\t\u001b[39;00m\u001b[38;5;124m(worst = \u001b[39m\u001b[38;5;132;01m{\u001b[39;00mnp\u001b[38;5;241m.\u001b[39mlog(\u001b[38;5;28mlen\u001b[39m(np\u001b[38;5;241m.\u001b[39munique(dbscan_labels)))\u001b[38;5;132;01m:\u001b[39;00m\u001b[38;5;124m.3f\u001b[39m\u001b[38;5;132;01m}\u001b[39;00m\u001b[38;5;124m)\u001b[39m\u001b[38;5;124m\"\u001b[39m)\n",
      "Cell \u001b[1;32mIn[54], line 2\u001b[0m, in \u001b[0;36mconditional_entropy\u001b[1;34m(y_true, y_pred)\u001b[0m\n\u001b[0;32m      1\u001b[0m \u001b[38;5;28;01mdef\u001b[39;00m \u001b[38;5;21mconditional_entropy\u001b[39m(y_true, y_pred):\n\u001b[1;32m----> 2\u001b[0m     cont_mat \u001b[38;5;241m=\u001b[39m \u001b[43mcontingency_matrix\u001b[49m\u001b[43m(\u001b[49m\u001b[43my_true\u001b[49m\u001b[43m,\u001b[49m\u001b[43m \u001b[49m\u001b[43my_pred\u001b[49m\u001b[43m)\u001b[49m\u001b[38;5;241m.\u001b[39mT\n\u001b[0;32m      3\u001b[0m     n \u001b[38;5;241m=\u001b[39m np\u001b[38;5;241m.\u001b[39msum(cont_mat)\n\u001b[0;32m      4\u001b[0m     p_ci \u001b[38;5;241m=\u001b[39m np\u001b[38;5;241m.\u001b[39msum(cont_mat, axis\u001b[38;5;241m=\u001b[39m\u001b[38;5;241m1\u001b[39m) \u001b[38;5;241m/\u001b[39m n\n",
      "File \u001b[1;32mc:\\Users\\nc970\\AppData\\Local\\Programs\\Python\\Python312\\Lib\\site-packages\\sklearn\\utils\\_param_validation.py:213\u001b[0m, in \u001b[0;36mvalidate_params.<locals>.decorator.<locals>.wrapper\u001b[1;34m(*args, **kwargs)\u001b[0m\n\u001b[0;32m    207\u001b[0m \u001b[38;5;28;01mtry\u001b[39;00m:\n\u001b[0;32m    208\u001b[0m     \u001b[38;5;28;01mwith\u001b[39;00m config_context(\n\u001b[0;32m    209\u001b[0m         skip_parameter_validation\u001b[38;5;241m=\u001b[39m(\n\u001b[0;32m    210\u001b[0m             prefer_skip_nested_validation \u001b[38;5;129;01mor\u001b[39;00m global_skip_validation\n\u001b[0;32m    211\u001b[0m         )\n\u001b[0;32m    212\u001b[0m     ):\n\u001b[1;32m--> 213\u001b[0m         \u001b[38;5;28;01mreturn\u001b[39;00m \u001b[43mfunc\u001b[49m\u001b[43m(\u001b[49m\u001b[38;5;241;43m*\u001b[39;49m\u001b[43margs\u001b[49m\u001b[43m,\u001b[49m\u001b[43m \u001b[49m\u001b[38;5;241;43m*\u001b[39;49m\u001b[38;5;241;43m*\u001b[39;49m\u001b[43mkwargs\u001b[49m\u001b[43m)\u001b[49m\n\u001b[0;32m    214\u001b[0m \u001b[38;5;28;01mexcept\u001b[39;00m InvalidParameterError \u001b[38;5;28;01mas\u001b[39;00m e:\n\u001b[0;32m    215\u001b[0m     \u001b[38;5;66;03m# When the function is just a wrapper around an estimator, we allow\u001b[39;00m\n\u001b[0;32m    216\u001b[0m     \u001b[38;5;66;03m# the function to delegate validation to the estimator, but we replace\u001b[39;00m\n\u001b[0;32m    217\u001b[0m     \u001b[38;5;66;03m# the name of the estimator by the name of the function in the error\u001b[39;00m\n\u001b[0;32m    218\u001b[0m     \u001b[38;5;66;03m# message to avoid confusion.\u001b[39;00m\n\u001b[0;32m    219\u001b[0m     msg \u001b[38;5;241m=\u001b[39m re\u001b[38;5;241m.\u001b[39msub(\n\u001b[0;32m    220\u001b[0m         \u001b[38;5;124mr\u001b[39m\u001b[38;5;124m\"\u001b[39m\u001b[38;5;124mparameter of \u001b[39m\u001b[38;5;124m\\\u001b[39m\u001b[38;5;124mw+ must be\u001b[39m\u001b[38;5;124m\"\u001b[39m,\n\u001b[0;32m    221\u001b[0m         \u001b[38;5;124mf\u001b[39m\u001b[38;5;124m\"\u001b[39m\u001b[38;5;124mparameter of \u001b[39m\u001b[38;5;132;01m{\u001b[39;00mfunc\u001b[38;5;241m.\u001b[39m\u001b[38;5;18m__qualname__\u001b[39m\u001b[38;5;132;01m}\u001b[39;00m\u001b[38;5;124m must be\u001b[39m\u001b[38;5;124m\"\u001b[39m,\n\u001b[0;32m    222\u001b[0m         \u001b[38;5;28mstr\u001b[39m(e),\n\u001b[0;32m    223\u001b[0m     )\n",
      "File \u001b[1;32mc:\\Users\\nc970\\AppData\\Local\\Programs\\Python\\Python312\\Lib\\site-packages\\sklearn\\metrics\\cluster\\_supervised.py:164\u001b[0m, in \u001b[0;36mcontingency_matrix\u001b[1;34m(labels_true, labels_pred, eps, sparse, dtype)\u001b[0m\n\u001b[0;32m    160\u001b[0m n_clusters \u001b[38;5;241m=\u001b[39m clusters\u001b[38;5;241m.\u001b[39mshape[\u001b[38;5;241m0\u001b[39m]\n\u001b[0;32m    161\u001b[0m \u001b[38;5;66;03m# Using coo_matrix to accelerate simple histogram calculation,\u001b[39;00m\n\u001b[0;32m    162\u001b[0m \u001b[38;5;66;03m# i.e. bins are consecutive integers\u001b[39;00m\n\u001b[0;32m    163\u001b[0m \u001b[38;5;66;03m# Currently, coo_matrix is faster than histogram2d for simple cases\u001b[39;00m\n\u001b[1;32m--> 164\u001b[0m contingency \u001b[38;5;241m=\u001b[39m \u001b[43msp\u001b[49m\u001b[38;5;241;43m.\u001b[39;49m\u001b[43mcoo_matrix\u001b[49m\u001b[43m(\u001b[49m\n\u001b[0;32m    165\u001b[0m \u001b[43m    \u001b[49m\u001b[43m(\u001b[49m\u001b[43mnp\u001b[49m\u001b[38;5;241;43m.\u001b[39;49m\u001b[43mones\u001b[49m\u001b[43m(\u001b[49m\u001b[43mclass_idx\u001b[49m\u001b[38;5;241;43m.\u001b[39;49m\u001b[43mshape\u001b[49m\u001b[43m[\u001b[49m\u001b[38;5;241;43m0\u001b[39;49m\u001b[43m]\u001b[49m\u001b[43m)\u001b[49m\u001b[43m,\u001b[49m\u001b[43m \u001b[49m\u001b[43m(\u001b[49m\u001b[43mclass_idx\u001b[49m\u001b[43m,\u001b[49m\u001b[43m \u001b[49m\u001b[43mcluster_idx\u001b[49m\u001b[43m)\u001b[49m\u001b[43m)\u001b[49m\u001b[43m,\u001b[49m\n\u001b[0;32m    166\u001b[0m \u001b[43m    \u001b[49m\u001b[43mshape\u001b[49m\u001b[38;5;241;43m=\u001b[39;49m\u001b[43m(\u001b[49m\u001b[43mn_classes\u001b[49m\u001b[43m,\u001b[49m\u001b[43m \u001b[49m\u001b[43mn_clusters\u001b[49m\u001b[43m)\u001b[49m\u001b[43m,\u001b[49m\n\u001b[0;32m    167\u001b[0m \u001b[43m    \u001b[49m\u001b[43mdtype\u001b[49m\u001b[38;5;241;43m=\u001b[39;49m\u001b[43mdtype\u001b[49m\u001b[43m,\u001b[49m\n\u001b[0;32m    168\u001b[0m \u001b[43m\u001b[49m\u001b[43m)\u001b[49m\n\u001b[0;32m    169\u001b[0m \u001b[38;5;28;01mif\u001b[39;00m sparse:\n\u001b[0;32m    170\u001b[0m     contingency \u001b[38;5;241m=\u001b[39m contingency\u001b[38;5;241m.\u001b[39mtocsr()\n",
      "File \u001b[1;32mc:\\Users\\nc970\\AppData\\Local\\Programs\\Python\\Python312\\Lib\\site-packages\\scipy\\sparse\\_coo.py:99\u001b[0m, in \u001b[0;36m_coo_base.__init__\u001b[1;34m(self, arg1, shape, dtype, copy)\u001b[0m\n\u001b[0;32m     96\u001b[0m \u001b[38;5;28;01mif\u001b[39;00m dtype \u001b[38;5;129;01mis\u001b[39;00m \u001b[38;5;129;01mnot\u001b[39;00m \u001b[38;5;28;01mNone\u001b[39;00m:\n\u001b[0;32m     97\u001b[0m     \u001b[38;5;28mself\u001b[39m\u001b[38;5;241m.\u001b[39mdata \u001b[38;5;241m=\u001b[39m \u001b[38;5;28mself\u001b[39m\u001b[38;5;241m.\u001b[39mdata\u001b[38;5;241m.\u001b[39mastype(dtype, copy\u001b[38;5;241m=\u001b[39m\u001b[38;5;28;01mFalse\u001b[39;00m)\n\u001b[1;32m---> 99\u001b[0m \u001b[38;5;28;43mself\u001b[39;49m\u001b[38;5;241;43m.\u001b[39;49m\u001b[43m_check\u001b[49m\u001b[43m(\u001b[49m\u001b[43m)\u001b[49m\n",
      "File \u001b[1;32mc:\\Users\\nc970\\AppData\\Local\\Programs\\Python\\Python312\\Lib\\site-packages\\scipy\\sparse\\_coo.py:186\u001b[0m, in \u001b[0;36m_coo_base._check\u001b[1;34m(self)\u001b[0m\n\u001b[0;32m    183\u001b[0m \u001b[38;5;28mself\u001b[39m\u001b[38;5;241m.\u001b[39mcol \u001b[38;5;241m=\u001b[39m np\u001b[38;5;241m.\u001b[39masarray(\u001b[38;5;28mself\u001b[39m\u001b[38;5;241m.\u001b[39mcol, dtype\u001b[38;5;241m=\u001b[39midx_dtype)\n\u001b[0;32m    184\u001b[0m \u001b[38;5;28mself\u001b[39m\u001b[38;5;241m.\u001b[39mdata \u001b[38;5;241m=\u001b[39m to_native(\u001b[38;5;28mself\u001b[39m\u001b[38;5;241m.\u001b[39mdata)\n\u001b[1;32m--> 186\u001b[0m \u001b[38;5;28;01mif\u001b[39;00m \u001b[38;5;28;43mself\u001b[39;49m\u001b[38;5;241;43m.\u001b[39;49m\u001b[43mnnz\u001b[49m \u001b[38;5;241m>\u001b[39m \u001b[38;5;241m0\u001b[39m:\n\u001b[0;32m    187\u001b[0m     \u001b[38;5;28;01mif\u001b[39;00m \u001b[38;5;28mself\u001b[39m\u001b[38;5;241m.\u001b[39mrow\u001b[38;5;241m.\u001b[39mmax() \u001b[38;5;241m>\u001b[39m\u001b[38;5;241m=\u001b[39m \u001b[38;5;28mself\u001b[39m\u001b[38;5;241m.\u001b[39mshape[\u001b[38;5;241m0\u001b[39m]:\n\u001b[0;32m    188\u001b[0m         \u001b[38;5;28;01mraise\u001b[39;00m \u001b[38;5;167;01mValueError\u001b[39;00m(\u001b[38;5;124m'\u001b[39m\u001b[38;5;124mrow index exceeds matrix dimensions\u001b[39m\u001b[38;5;124m'\u001b[39m)\n",
      "File \u001b[1;32mc:\\Users\\nc970\\AppData\\Local\\Programs\\Python\\Python312\\Lib\\site-packages\\scipy\\sparse\\_base.py:293\u001b[0m, in \u001b[0;36m_spbase.nnz\u001b[1;34m(self)\u001b[0m\n\u001b[0;32m    285\u001b[0m \u001b[38;5;129m@property\u001b[39m\n\u001b[0;32m    286\u001b[0m \u001b[38;5;28;01mdef\u001b[39;00m \u001b[38;5;21mnnz\u001b[39m(\u001b[38;5;28mself\u001b[39m) \u001b[38;5;241m-\u001b[39m\u001b[38;5;241m>\u001b[39m \u001b[38;5;28mint\u001b[39m:\n\u001b[0;32m    287\u001b[0m \u001b[38;5;250m    \u001b[39m\u001b[38;5;124;03m\"\"\"Number of stored values, including explicit zeros.\u001b[39;00m\n\u001b[0;32m    288\u001b[0m \n\u001b[0;32m    289\u001b[0m \u001b[38;5;124;03m    See also\u001b[39;00m\n\u001b[0;32m    290\u001b[0m \u001b[38;5;124;03m    --------\u001b[39;00m\n\u001b[0;32m    291\u001b[0m \u001b[38;5;124;03m    count_nonzero : Number of non-zero entries\u001b[39;00m\n\u001b[0;32m    292\u001b[0m \u001b[38;5;124;03m    \"\"\"\u001b[39;00m\n\u001b[1;32m--> 293\u001b[0m     \u001b[38;5;28;01mreturn\u001b[39;00m \u001b[38;5;28;43mself\u001b[39;49m\u001b[38;5;241;43m.\u001b[39;49m\u001b[43m_getnnz\u001b[49m\u001b[43m(\u001b[49m\u001b[43m)\u001b[49m\n",
      "File \u001b[1;32mc:\\Users\\nc970\\AppData\\Local\\Programs\\Python\\Python312\\Lib\\site-packages\\scipy\\sparse\\_coo.py:148\u001b[0m, in \u001b[0;36m_coo_base._getnnz\u001b[1;34m(self, axis)\u001b[0m\n\u001b[0;32m    146\u001b[0m nnz \u001b[38;5;241m=\u001b[39m \u001b[38;5;28mlen\u001b[39m(\u001b[38;5;28mself\u001b[39m\u001b[38;5;241m.\u001b[39mdata)\n\u001b[0;32m    147\u001b[0m \u001b[38;5;28;01mif\u001b[39;00m nnz \u001b[38;5;241m!=\u001b[39m \u001b[38;5;28mlen\u001b[39m(\u001b[38;5;28mself\u001b[39m\u001b[38;5;241m.\u001b[39mrow) \u001b[38;5;129;01mor\u001b[39;00m nnz \u001b[38;5;241m!=\u001b[39m \u001b[38;5;28mlen\u001b[39m(\u001b[38;5;28mself\u001b[39m\u001b[38;5;241m.\u001b[39mcol):\n\u001b[1;32m--> 148\u001b[0m     \u001b[38;5;28;01mraise\u001b[39;00m \u001b[38;5;167;01mValueError\u001b[39;00m(\u001b[38;5;124m'\u001b[39m\u001b[38;5;124mrow, column, and data array must all be the \u001b[39m\u001b[38;5;124m'\u001b[39m\n\u001b[0;32m    149\u001b[0m                      \u001b[38;5;124m'\u001b[39m\u001b[38;5;124msame length\u001b[39m\u001b[38;5;124m'\u001b[39m)\n\u001b[0;32m    151\u001b[0m \u001b[38;5;28;01mif\u001b[39;00m \u001b[38;5;28mself\u001b[39m\u001b[38;5;241m.\u001b[39mdata\u001b[38;5;241m.\u001b[39mndim \u001b[38;5;241m!=\u001b[39m \u001b[38;5;241m1\u001b[39m \u001b[38;5;129;01mor\u001b[39;00m \u001b[38;5;28mself\u001b[39m\u001b[38;5;241m.\u001b[39mrow\u001b[38;5;241m.\u001b[39mndim \u001b[38;5;241m!=\u001b[39m \u001b[38;5;241m1\u001b[39m \u001b[38;5;129;01mor\u001b[39;00m \\\n\u001b[0;32m    152\u001b[0m         \u001b[38;5;28mself\u001b[39m\u001b[38;5;241m.\u001b[39mcol\u001b[38;5;241m.\u001b[39mndim \u001b[38;5;241m!=\u001b[39m \u001b[38;5;241m1\u001b[39m:\n\u001b[0;32m    153\u001b[0m     \u001b[38;5;28;01mraise\u001b[39;00m \u001b[38;5;167;01mValueError\u001b[39;00m(\u001b[38;5;124m'\u001b[39m\u001b[38;5;124mrow, column, and data arrays must be 1-D\u001b[39m\u001b[38;5;124m'\u001b[39m)\n",
      "\u001b[1;31mValueError\u001b[0m: row, column, and data array must all be the same length"
     ]
    },
    {
     "name": "stdout",
     "output_type": "stream",
     "text": [
      "time: 531 ms (started: 2024-04-08 00:10:27 +05:30)\n"
     ]
    }
   ],
   "source": [
    "print(f\"{conditional_entropy(y_train, dbscan_labels):.3f}\\t(worst = {np.log(len(np.unique(dbscan_labels))):.3f})\")"
   ]
  },
  {
   "cell_type": "markdown",
   "metadata": {},
   "source": [
    "## Displaying Plots"
   ]
  },
  {
   "cell_type": "code",
   "execution_count": 69,
   "metadata": {},
   "outputs": [
    {
     "name": "stdout",
     "output_type": "stream",
     "text": [
      "time: 0 ns (started: 2024-04-07 23:41:58 +05:30)\n"
     ]
    }
   ],
   "source": [
    "def display_plot(X, labels, plot_style, title=''):\n",
    "    fig = plt.figure(figsize=(6,6))\n",
    "    if plot_style == '2d':\n",
    "        ax = fig.add_subplot(111)\n",
    "        ax.scatter(X[:,0], X[:,1], c=labels, lw=0)\n",
    "    elif plot_style == '3d':\n",
    "        ax = fig.add_subplot(111, projection='3d')\n",
    "        ax.scatter(X[:,0], X[:,1], labels, c=labels, lw=0)\n",
    "        ax.set_zlabel('k-th cluster')        \n",
    "    \n",
    "    plt.title(title)\n",
    "    ax.set_xlabel('X_1')\n",
    "    ax.set_ylabel('X_2')"
   ]
  },
  {
   "cell_type": "markdown",
   "metadata": {},
   "source": [
    "### K-Means"
   ]
  },
  {
   "cell_type": "code",
   "execution_count": 70,
   "metadata": {},
   "outputs": [
    {
     "data": {
      "image/png": "[encoded data removed]",
      "text/plain": [
       "<Figure size 600x600 with 1 Axes>"
      ]
     },
     "metadata": {},
     "output_type": "display_data"
    },
    {
     "data": {
      "image/png": "[encoded data removed]",
      "text/plain": [
       "<Figure size 600x600 with 1 Axes>"
      ]
     },
     "metadata": {},
     "output_type": "display_data"
    },
    {
     "data": {
      "image/png": "[encoded data removed]",
      "text/plain": [
       "<Figure size 600x600 with 1 Axes>"
      ]
     },
     "metadata": {},
     "output_type": "display_data"
    },
    {
     "data": {
      "image/png": "[encoded data removed]",
      "text/plain": [
       "<Figure size 600x600 with 1 Axes>"
      ]
     },
     "metadata": {},
     "output_type": "display_data"
    },
    {
     "data": {
      "image/png": "[encoded data removed]",
      "text/plain": [
       "<Figure size 600x600 with 1 Axes>"
      ]
     },
     "metadata": {},
     "output_type": "display_data"
    },
    {
     "name": "stdout",
     "output_type": "stream",
     "text": [
      "time: 4min 54s (started: 2024-04-07 23:42:00 +05:30)\n"
     ]
    }
   ],
   "source": [
    "for k in [7, 15, 23, 31,45]:\n",
    "    display_plot(x_train, km_results[k]['labels'], '2d', title=f\"K-Means, {k} clusters\")"
   ]
  }
 ],
 "metadata": {
  "colab": {
   "provenance": [],
   "toc_visible": true
  },
  "kernelspec": {
   "display_name": "Python 3 (ipykernel)",
   "language": "python",
   "name": "python3"
  },
  "language_info": {
   "codemirror_mode": {
    "name": "ipython",
    "version": 3
   },
   "file_extension": ".py",
   "mimetype": "text/x-python",
   "name": "python",
   "nbconvert_exporter": "python",
   "pygments_lexer": "ipython3",
   "version": "3.12.2"
  }
 },
 "nbformat": 4,
 "nbformat_minor": 4
}
